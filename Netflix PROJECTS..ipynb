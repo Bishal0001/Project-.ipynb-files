{
 "cells": [
  {
   "cell_type": "markdown",
   "id": "675c1cba",
   "metadata": {},
   "source": [
    "# Netflix Project."
   ]
  },
  {
   "cell_type": "code",
   "execution_count": 1,
   "id": "0f8a345f",
   "metadata": {},
   "outputs": [],
   "source": [
    "import numpy as np\n",
    "import pandas as pd\n",
    "import matplotlib.pyplot as plt\n",
    "import math\n",
    "import seaborn as sns\n",
    "import voila"
   ]
  },
  {
   "cell_type": "code",
   "execution_count": 15,
   "id": "16e357a9",
   "metadata": {},
   "outputs": [],
   "source": [
    "df = pd.read_csv('netflix.csv')"
   ]
  },
  {
   "cell_type": "code",
   "execution_count": 16,
   "id": "f19448c9",
   "metadata": {},
   "outputs": [
    {
     "data": {
      "text/html": [
       "<div>\n",
       "<style scoped>\n",
       "    .dataframe tbody tr th:only-of-type {\n",
       "        vertical-align: middle;\n",
       "    }\n",
       "\n",
       "    .dataframe tbody tr th {\n",
       "        vertical-align: top;\n",
       "    }\n",
       "\n",
       "    .dataframe thead th {\n",
       "        text-align: right;\n",
       "    }\n",
       "</style>\n",
       "<table border=\"1\" class=\"dataframe\">\n",
       "  <thead>\n",
       "    <tr style=\"text-align: right;\">\n",
       "      <th></th>\n",
       "      <th>show_id</th>\n",
       "      <th>type</th>\n",
       "      <th>title</th>\n",
       "      <th>director</th>\n",
       "      <th>cast</th>\n",
       "      <th>country</th>\n",
       "      <th>date_added</th>\n",
       "      <th>release_year</th>\n",
       "      <th>rating</th>\n",
       "      <th>duration</th>\n",
       "      <th>listed_in</th>\n",
       "      <th>description</th>\n",
       "    </tr>\n",
       "  </thead>\n",
       "  <tbody>\n",
       "    <tr>\n",
       "      <th>0</th>\n",
       "      <td>s1</td>\n",
       "      <td>Movie</td>\n",
       "      <td>Dick Johnson Is Dead</td>\n",
       "      <td>Kirsten Johnson</td>\n",
       "      <td>NaN</td>\n",
       "      <td>United States</td>\n",
       "      <td>September 25, 2021</td>\n",
       "      <td>2020</td>\n",
       "      <td>PG-13</td>\n",
       "      <td>90 min</td>\n",
       "      <td>Documentaries</td>\n",
       "      <td>As her father nears the end of his life, filmm...</td>\n",
       "    </tr>\n",
       "    <tr>\n",
       "      <th>1</th>\n",
       "      <td>s2</td>\n",
       "      <td>TV Show</td>\n",
       "      <td>Blood &amp; Water</td>\n",
       "      <td>NaN</td>\n",
       "      <td>Ama Qamata, Khosi Ngema, Gail Mabalane, Thaban...</td>\n",
       "      <td>South Africa</td>\n",
       "      <td>September 24, 2021</td>\n",
       "      <td>2021</td>\n",
       "      <td>TV-MA</td>\n",
       "      <td>2 Seasons</td>\n",
       "      <td>International TV Shows, TV Dramas, TV Mysteries</td>\n",
       "      <td>After crossing paths at a party, a Cape Town t...</td>\n",
       "    </tr>\n",
       "    <tr>\n",
       "      <th>2</th>\n",
       "      <td>s3</td>\n",
       "      <td>TV Show</td>\n",
       "      <td>Ganglands</td>\n",
       "      <td>Julien Leclercq</td>\n",
       "      <td>Sami Bouajila, Tracy Gotoas, Samuel Jouy, Nabi...</td>\n",
       "      <td>NaN</td>\n",
       "      <td>September 24, 2021</td>\n",
       "      <td>2021</td>\n",
       "      <td>TV-MA</td>\n",
       "      <td>1 Season</td>\n",
       "      <td>Crime TV Shows, International TV Shows, TV Act...</td>\n",
       "      <td>To protect his family from a powerful drug lor...</td>\n",
       "    </tr>\n",
       "    <tr>\n",
       "      <th>3</th>\n",
       "      <td>s4</td>\n",
       "      <td>TV Show</td>\n",
       "      <td>Jailbirds New Orleans</td>\n",
       "      <td>NaN</td>\n",
       "      <td>NaN</td>\n",
       "      <td>NaN</td>\n",
       "      <td>September 24, 2021</td>\n",
       "      <td>2021</td>\n",
       "      <td>TV-MA</td>\n",
       "      <td>1 Season</td>\n",
       "      <td>Docuseries, Reality TV</td>\n",
       "      <td>Feuds, flirtations and toilet talk go down amo...</td>\n",
       "    </tr>\n",
       "    <tr>\n",
       "      <th>4</th>\n",
       "      <td>s5</td>\n",
       "      <td>TV Show</td>\n",
       "      <td>Kota Factory</td>\n",
       "      <td>NaN</td>\n",
       "      <td>Mayur More, Jitendra Kumar, Ranjan Raj, Alam K...</td>\n",
       "      <td>India</td>\n",
       "      <td>September 24, 2021</td>\n",
       "      <td>2021</td>\n",
       "      <td>TV-MA</td>\n",
       "      <td>2 Seasons</td>\n",
       "      <td>International TV Shows, Romantic TV Shows, TV ...</td>\n",
       "      <td>In a city of coaching centers known to train I...</td>\n",
       "    </tr>\n",
       "  </tbody>\n",
       "</table>\n",
       "</div>"
      ],
      "text/plain": [
       "  show_id     type                  title         director  \\\n",
       "0      s1    Movie   Dick Johnson Is Dead  Kirsten Johnson   \n",
       "1      s2  TV Show          Blood & Water              NaN   \n",
       "2      s3  TV Show              Ganglands  Julien Leclercq   \n",
       "3      s4  TV Show  Jailbirds New Orleans              NaN   \n",
       "4      s5  TV Show           Kota Factory              NaN   \n",
       "\n",
       "                                                cast        country  \\\n",
       "0                                                NaN  United States   \n",
       "1  Ama Qamata, Khosi Ngema, Gail Mabalane, Thaban...   South Africa   \n",
       "2  Sami Bouajila, Tracy Gotoas, Samuel Jouy, Nabi...            NaN   \n",
       "3                                                NaN            NaN   \n",
       "4  Mayur More, Jitendra Kumar, Ranjan Raj, Alam K...          India   \n",
       "\n",
       "           date_added  release_year rating   duration  \\\n",
       "0  September 25, 2021          2020  PG-13     90 min   \n",
       "1  September 24, 2021          2021  TV-MA  2 Seasons   \n",
       "2  September 24, 2021          2021  TV-MA   1 Season   \n",
       "3  September 24, 2021          2021  TV-MA   1 Season   \n",
       "4  September 24, 2021          2021  TV-MA  2 Seasons   \n",
       "\n",
       "                                           listed_in  \\\n",
       "0                                      Documentaries   \n",
       "1    International TV Shows, TV Dramas, TV Mysteries   \n",
       "2  Crime TV Shows, International TV Shows, TV Act...   \n",
       "3                             Docuseries, Reality TV   \n",
       "4  International TV Shows, Romantic TV Shows, TV ...   \n",
       "\n",
       "                                         description  \n",
       "0  As her father nears the end of his life, filmm...  \n",
       "1  After crossing paths at a party, a Cape Town t...  \n",
       "2  To protect his family from a powerful drug lor...  \n",
       "3  Feuds, flirtations and toilet talk go down amo...  \n",
       "4  In a city of coaching centers known to train I...  "
      ]
     },
     "execution_count": 16,
     "metadata": {},
     "output_type": "execute_result"
    }
   ],
   "source": [
    "df.head()"
   ]
  },
  {
   "cell_type": "markdown",
   "id": "d1317792",
   "metadata": {},
   "source": [
    "# 1. Defining Problem Statement and Analysing basic metrics (10 Points)"
   ]
  },
  {
   "cell_type": "markdown",
   "id": "9aace2ac",
   "metadata": {},
   "source": [
    "# Problem Statements."
   ]
  },
  {
   "cell_type": "code",
   "execution_count": 17,
   "id": "e08cd2bb",
   "metadata": {},
   "outputs": [
    {
     "data": {
      "text/plain": [
       "<AxesSubplot:>"
      ]
     },
     "execution_count": 17,
     "metadata": {},
     "output_type": "execute_result"
    },
    {
     "data": {
      "image/png": "[encoded data removed]",
      "text/plain": [
       "<Figure size 432x288 with 1 Axes>"
      ]
     },
     "metadata": {
      "needs_background": "light"
     },
     "output_type": "display_data"
    }
   ],
   "source": [
    "# Insight 1, 2, 3.\n",
    "\n",
    "df.describe().plot(kind='box')"
   ]
  },
  {
   "cell_type": "code",
   "execution_count": 18,
   "id": "6c68dd93",
   "metadata": {},
   "outputs": [
    {
     "data": {
      "text/plain": [
       "2018    1147\n",
       "2017    1032\n",
       "2019    1030\n",
       "2020     953\n",
       "2016     902\n",
       "Name: release_year, dtype: int64"
      ]
     },
     "execution_count": 18,
     "metadata": {},
     "output_type": "execute_result"
    }
   ],
   "source": [
    "df['release_year'].value_counts().sort_values(ascending=False).head(5)"
   ]
  },
  {
   "cell_type": "code",
   "execution_count": 19,
   "id": "898b613e",
   "metadata": {},
   "outputs": [],
   "source": [
    "# df['release_year'].plot(kind='bar')"
   ]
  },
  {
   "cell_type": "code",
   "execution_count": 20,
   "id": "fee58b26",
   "metadata": {},
   "outputs": [
    {
     "ename": "KeyError",
     "evalue": "'rel'",
     "output_type": "error",
     "traceback": [
      "\u001b[1;31m---------------------------------------------------------------------------\u001b[0m",
      "\u001b[1;31mKeyError\u001b[0m                                  Traceback (most recent call last)",
      "\u001b[1;32m~\\anaconda3\\lib\\site-packages\\pandas\\core\\indexes\\base.py\u001b[0m in \u001b[0;36mget_loc\u001b[1;34m(self, key, method, tolerance)\u001b[0m\n\u001b[0;32m   3079\u001b[0m             \u001b[1;32mtry\u001b[0m\u001b[1;33m:\u001b[0m\u001b[1;33m\u001b[0m\u001b[1;33m\u001b[0m\u001b[0m\n\u001b[1;32m-> 3080\u001b[1;33m                 \u001b[1;32mreturn\u001b[0m \u001b[0mself\u001b[0m\u001b[1;33m.\u001b[0m\u001b[0m_engine\u001b[0m\u001b[1;33m.\u001b[0m\u001b[0mget_loc\u001b[0m\u001b[1;33m(\u001b[0m\u001b[0mcasted_key\u001b[0m\u001b[1;33m)\u001b[0m\u001b[1;33m\u001b[0m\u001b[1;33m\u001b[0m\u001b[0m\n\u001b[0m\u001b[0;32m   3081\u001b[0m             \u001b[1;32mexcept\u001b[0m \u001b[0mKeyError\u001b[0m \u001b[1;32mas\u001b[0m \u001b[0merr\u001b[0m\u001b[1;33m:\u001b[0m\u001b[1;33m\u001b[0m\u001b[1;33m\u001b[0m\u001b[0m\n",
      "\u001b[1;32mpandas\\_libs\\index.pyx\u001b[0m in \u001b[0;36mpandas._libs.index.IndexEngine.get_loc\u001b[1;34m()\u001b[0m\n",
      "\u001b[1;32mpandas\\_libs\\index.pyx\u001b[0m in \u001b[0;36mpandas._libs.index.IndexEngine.get_loc\u001b[1;34m()\u001b[0m\n",
      "\u001b[1;32mpandas\\_libs\\hashtable_class_helper.pxi\u001b[0m in \u001b[0;36mpandas._libs.hashtable.PyObjectHashTable.get_item\u001b[1;34m()\u001b[0m\n",
      "\u001b[1;32mpandas\\_libs\\hashtable_class_helper.pxi\u001b[0m in \u001b[0;36mpandas._libs.hashtable.PyObjectHashTable.get_item\u001b[1;34m()\u001b[0m\n",
      "\u001b[1;31mKeyError\u001b[0m: 'rel'",
      "\nThe above exception was the direct cause of the following exception:\n",
      "\u001b[1;31mKeyError\u001b[0m                                  Traceback (most recent call last)",
      "\u001b[1;32m<ipython-input-20-c6596f1e335d>\u001b[0m in \u001b[0;36m<module>\u001b[1;34m\u001b[0m\n\u001b[1;32m----> 1\u001b[1;33m \u001b[0mdf\u001b[0m\u001b[1;33m[\u001b[0m\u001b[1;34m'rel'\u001b[0m\u001b[1;33m]\u001b[0m\u001b[1;33m\u001b[0m\u001b[1;33m\u001b[0m\u001b[0m\n\u001b[0m",
      "\u001b[1;32m~\\anaconda3\\lib\\site-packages\\pandas\\core\\frame.py\u001b[0m in \u001b[0;36m__getitem__\u001b[1;34m(self, key)\u001b[0m\n\u001b[0;32m   3022\u001b[0m             \u001b[1;32mif\u001b[0m \u001b[0mself\u001b[0m\u001b[1;33m.\u001b[0m\u001b[0mcolumns\u001b[0m\u001b[1;33m.\u001b[0m\u001b[0mnlevels\u001b[0m \u001b[1;33m>\u001b[0m \u001b[1;36m1\u001b[0m\u001b[1;33m:\u001b[0m\u001b[1;33m\u001b[0m\u001b[1;33m\u001b[0m\u001b[0m\n\u001b[0;32m   3023\u001b[0m                 \u001b[1;32mreturn\u001b[0m \u001b[0mself\u001b[0m\u001b[1;33m.\u001b[0m\u001b[0m_getitem_multilevel\u001b[0m\u001b[1;33m(\u001b[0m\u001b[0mkey\u001b[0m\u001b[1;33m)\u001b[0m\u001b[1;33m\u001b[0m\u001b[1;33m\u001b[0m\u001b[0m\n\u001b[1;32m-> 3024\u001b[1;33m             \u001b[0mindexer\u001b[0m \u001b[1;33m=\u001b[0m \u001b[0mself\u001b[0m\u001b[1;33m.\u001b[0m\u001b[0mcolumns\u001b[0m\u001b[1;33m.\u001b[0m\u001b[0mget_loc\u001b[0m\u001b[1;33m(\u001b[0m\u001b[0mkey\u001b[0m\u001b[1;33m)\u001b[0m\u001b[1;33m\u001b[0m\u001b[1;33m\u001b[0m\u001b[0m\n\u001b[0m\u001b[0;32m   3025\u001b[0m             \u001b[1;32mif\u001b[0m \u001b[0mis_integer\u001b[0m\u001b[1;33m(\u001b[0m\u001b[0mindexer\u001b[0m\u001b[1;33m)\u001b[0m\u001b[1;33m:\u001b[0m\u001b[1;33m\u001b[0m\u001b[1;33m\u001b[0m\u001b[0m\n\u001b[0;32m   3026\u001b[0m                 \u001b[0mindexer\u001b[0m \u001b[1;33m=\u001b[0m \u001b[1;33m[\u001b[0m\u001b[0mindexer\u001b[0m\u001b[1;33m]\u001b[0m\u001b[1;33m\u001b[0m\u001b[1;33m\u001b[0m\u001b[0m\n",
      "\u001b[1;32m~\\anaconda3\\lib\\site-packages\\pandas\\core\\indexes\\base.py\u001b[0m in \u001b[0;36mget_loc\u001b[1;34m(self, key, method, tolerance)\u001b[0m\n\u001b[0;32m   3080\u001b[0m                 \u001b[1;32mreturn\u001b[0m \u001b[0mself\u001b[0m\u001b[1;33m.\u001b[0m\u001b[0m_engine\u001b[0m\u001b[1;33m.\u001b[0m\u001b[0mget_loc\u001b[0m\u001b[1;33m(\u001b[0m\u001b[0mcasted_key\u001b[0m\u001b[1;33m)\u001b[0m\u001b[1;33m\u001b[0m\u001b[1;33m\u001b[0m\u001b[0m\n\u001b[0;32m   3081\u001b[0m             \u001b[1;32mexcept\u001b[0m \u001b[0mKeyError\u001b[0m \u001b[1;32mas\u001b[0m \u001b[0merr\u001b[0m\u001b[1;33m:\u001b[0m\u001b[1;33m\u001b[0m\u001b[1;33m\u001b[0m\u001b[0m\n\u001b[1;32m-> 3082\u001b[1;33m                 \u001b[1;32mraise\u001b[0m \u001b[0mKeyError\u001b[0m\u001b[1;33m(\u001b[0m\u001b[0mkey\u001b[0m\u001b[1;33m)\u001b[0m \u001b[1;32mfrom\u001b[0m \u001b[0merr\u001b[0m\u001b[1;33m\u001b[0m\u001b[1;33m\u001b[0m\u001b[0m\n\u001b[0m\u001b[0;32m   3083\u001b[0m \u001b[1;33m\u001b[0m\u001b[0m\n\u001b[0;32m   3084\u001b[0m         \u001b[1;32mif\u001b[0m \u001b[0mtolerance\u001b[0m \u001b[1;32mis\u001b[0m \u001b[1;32mnot\u001b[0m \u001b[1;32mNone\u001b[0m\u001b[1;33m:\u001b[0m\u001b[1;33m\u001b[0m\u001b[1;33m\u001b[0m\u001b[0m\n",
      "\u001b[1;31mKeyError\u001b[0m: 'rel'"
     ]
    }
   ],
   "source": [
    "df['rel']"
   ]
  },
  {
   "cell_type": "code",
   "execution_count": 21,
   "id": "7afd6866",
   "metadata": {},
   "outputs": [
    {
     "data": {
      "text/plain": [
       "74"
      ]
     },
     "execution_count": 21,
     "metadata": {},
     "output_type": "execute_result"
    }
   ],
   "source": [
    "# Insight 4\n",
    "\n",
    "Total_Years_data = len(df['release_year'].unique())\n",
    "Total_Years_data"
   ]
  },
  {
   "cell_type": "code",
   "execution_count": 22,
   "id": "6fbd6c87",
   "metadata": {},
   "outputs": [
    {
     "data": {
      "text/plain": [
       "8807"
      ]
     },
     "execution_count": 22,
     "metadata": {},
     "output_type": "execute_result"
    }
   ],
   "source": [
    "# Insight 5\n",
    "\n",
    "Total_Title_data = len(df['title'].unique())\n",
    "Total_Title_data"
   ]
  },
  {
   "cell_type": "code",
   "execution_count": 23,
   "id": "fe213eda",
   "metadata": {},
   "outputs": [
    {
     "data": {
      "text/plain": [
       "119"
      ]
     },
     "execution_count": 23,
     "metadata": {},
     "output_type": "execute_result"
    }
   ],
   "source": [
    "# Insight 6\n",
    "\n",
    "Avg_mv_sh = Total_Title_data//Total_Years_data\n",
    "Avg_mv_sh"
   ]
  },
  {
   "cell_type": "markdown",
   "id": "19aec3d5",
   "metadata": {},
   "source": [
    "# Observation for part 1."
   ]
  },
  {
   "cell_type": "markdown",
   "id": "1393bf17",
   "metadata": {},
   "source": [
    "Insight 1 : First movie/show was created in 1925.\n",
    "\n",
    "Insight 2 : Last movie/show was created in 2021.\n",
    "\n",
    "Insight 3 : IQR range is 2013-2019, where 2013 is 1st Quartile, 2017 is 2nd quartile, 2019 is 3rd quartile.\n",
    "\n",
    "Insight 4 : We have total 74 years of data.\n",
    "\n",
    "Insight 5 : We have total 8807 movies/shows.\n",
    "\n",
    "Insight 6 : Average movies/shows per year is calculated as 119.\n",
    "\n"
   ]
  },
  {
   "cell_type": "markdown",
   "id": "9229f4cc",
   "metadata": {},
   "source": [
    "# 2. Observations on the shape of data, data types of all the attributes, conversion of categorical attributes to 'category' (If required), missing value detection, statistical summary  (10 Points)"
   ]
  },
  {
   "cell_type": "code",
   "execution_count": 24,
   "id": "67e85fe0",
   "metadata": {},
   "outputs": [
    {
     "data": {
      "text/plain": [
       "(8807, 12)"
      ]
     },
     "execution_count": 24,
     "metadata": {},
     "output_type": "execute_result"
    }
   ],
   "source": [
    "# Insight 2.1\n",
    "df.shape"
   ]
  },
  {
   "cell_type": "code",
   "execution_count": 25,
   "id": "77c54fc6",
   "metadata": {},
   "outputs": [
    {
     "name": "stdout",
     "output_type": "stream",
     "text": [
      "<class 'pandas.core.frame.DataFrame'>\n",
      "RangeIndex: 8807 entries, 0 to 8806\n",
      "Data columns (total 12 columns):\n",
      " #   Column        Non-Null Count  Dtype \n",
      "---  ------        --------------  ----- \n",
      " 0   show_id       8807 non-null   object\n",
      " 1   type          8807 non-null   object\n",
      " 2   title         8807 non-null   object\n",
      " 3   director      6173 non-null   object\n",
      " 4   cast          7982 non-null   object\n",
      " 5   country       7976 non-null   object\n",
      " 6   date_added    8797 non-null   object\n",
      " 7   release_year  8807 non-null   int64 \n",
      " 8   rating        8803 non-null   object\n",
      " 9   duration      8804 non-null   object\n",
      " 10  listed_in     8807 non-null   object\n",
      " 11  description   8807 non-null   object\n",
      "dtypes: int64(1), object(11)\n",
      "memory usage: 825.8+ KB\n"
     ]
    }
   ],
   "source": [
    "# Insight 2.2\n",
    "df.info()"
   ]
  },
  {
   "cell_type": "code",
   "execution_count": 26,
   "id": "e4c892da",
   "metadata": {},
   "outputs": [],
   "source": [
    "# Insigt 2.3\n",
    "\n",
    "Mask = df['cast'].apply(lambda x: str(x).split(', ')).to_list()\n",
    "give_index = pd.DataFrame(Mask,index=df['director'])\n",
    "dff = give_index.stack()\n",
    "dff = pd.DataFrame(dff)\n",
    "dff.reset_index(inplace=True)\n",
    "dff.rename(columns={0:'cast'},inplace=True)\n",
    "dff.drop('level_1',axis=1,inplace=True)\n",
    "\n"
   ]
  },
  {
   "cell_type": "code",
   "execution_count": 27,
   "id": "539ed7d4",
   "metadata": {},
   "outputs": [
    {
     "data": {
      "text/plain": [
       "cast\n",
       "Anupam Kher         42\n",
       "Shah Rukh Khan      35\n",
       "Naseeruddin Shah    32\n",
       "Om Puri             30\n",
       "Akshay Kumar        30\n",
       "Name: director, dtype: int64"
      ]
     },
     "execution_count": 27,
     "metadata": {},
     "output_type": "execute_result"
    }
   ],
   "source": [
    "# Insigt 2.3\n",
    "\n",
    "Top_MovieTVscast = dff \n",
    "Top_MovieTVscast = Top_MovieTVscast[Top_MovieTVscast['cast'] != 'nan']\n",
    "Top_MovieTVscast.groupby('cast')['director'].count().sort_values(ascending=False).head(5)\n"
   ]
  },
  {
   "cell_type": "code",
   "execution_count": 28,
   "id": "9df9f3f2",
   "metadata": {},
   "outputs": [],
   "source": [
    "# Insigt 2.4\n",
    "\n",
    "e = pd.DataFrame(Mask,index=df['type'])\n",
    "e = e.stack()\n",
    "e = pd.DataFrame(e)\n",
    "e.reset_index(inplace=True)\n",
    "e.rename(columns={0:'cast'},inplace=True)\n",
    "e.groupby('cast')['type'].count().sort_values(ascending=False)\n",
    "e.drop('level_1',inplace=True,axis=1)\n",
    "\n"
   ]
  },
  {
   "cell_type": "code",
   "execution_count": 29,
   "id": "dc746a20",
   "metadata": {},
   "outputs": [],
   "source": [
    "# Insigt 2.4\n",
    "\n",
    "Movies_cast = e[e['type'] == 'Movie']\n"
   ]
  },
  {
   "cell_type": "code",
   "execution_count": 30,
   "id": "b11abc47",
   "metadata": {},
   "outputs": [],
   "source": [
    "# Insigt 2.4\n",
    "\n",
    "Movies_cast = Movies_cast[Movies_cast['cast'] != 'nan']\n",
    "Movies_cast =pd.DataFrame(Movies_cast.value_counts().head(5))\n",
    "Movies_cast.reset_index(inplace=True)\n",
    "Movies_cast.rename(columns={0:'no_of_movies'},inplace=True)\n"
   ]
  },
  {
   "cell_type": "code",
   "execution_count": 31,
   "id": "6f349fbc",
   "metadata": {},
   "outputs": [
    {
     "data": {
      "text/html": [
       "<div>\n",
       "<style scoped>\n",
       "    .dataframe tbody tr th:only-of-type {\n",
       "        vertical-align: middle;\n",
       "    }\n",
       "\n",
       "    .dataframe tbody tr th {\n",
       "        vertical-align: top;\n",
       "    }\n",
       "\n",
       "    .dataframe thead th {\n",
       "        text-align: right;\n",
       "    }\n",
       "</style>\n",
       "<table border=\"1\" class=\"dataframe\">\n",
       "  <thead>\n",
       "    <tr style=\"text-align: right;\">\n",
       "      <th></th>\n",
       "      <th>type</th>\n",
       "      <th>cast</th>\n",
       "      <th>no_of_movies</th>\n",
       "    </tr>\n",
       "  </thead>\n",
       "  <tbody>\n",
       "    <tr>\n",
       "      <th>0</th>\n",
       "      <td>Movie</td>\n",
       "      <td>Anupam Kher</td>\n",
       "      <td>42</td>\n",
       "    </tr>\n",
       "    <tr>\n",
       "      <th>1</th>\n",
       "      <td>Movie</td>\n",
       "      <td>Shah Rukh Khan</td>\n",
       "      <td>35</td>\n",
       "    </tr>\n",
       "    <tr>\n",
       "      <th>2</th>\n",
       "      <td>Movie</td>\n",
       "      <td>Naseeruddin Shah</td>\n",
       "      <td>32</td>\n",
       "    </tr>\n",
       "    <tr>\n",
       "      <th>3</th>\n",
       "      <td>Movie</td>\n",
       "      <td>Om Puri</td>\n",
       "      <td>30</td>\n",
       "    </tr>\n",
       "    <tr>\n",
       "      <th>4</th>\n",
       "      <td>Movie</td>\n",
       "      <td>Akshay Kumar</td>\n",
       "      <td>30</td>\n",
       "    </tr>\n",
       "  </tbody>\n",
       "</table>\n",
       "</div>"
      ],
      "text/plain": [
       "    type              cast  no_of_movies\n",
       "0  Movie       Anupam Kher            42\n",
       "1  Movie    Shah Rukh Khan            35\n",
       "2  Movie  Naseeruddin Shah            32\n",
       "3  Movie           Om Puri            30\n",
       "4  Movie      Akshay Kumar            30"
      ]
     },
     "execution_count": 31,
     "metadata": {},
     "output_type": "execute_result"
    }
   ],
   "source": [
    "# Insigt 2.4\n",
    "\n",
    "Movies_cast"
   ]
  },
  {
   "cell_type": "code",
   "execution_count": 32,
   "id": "1f5ec2ce",
   "metadata": {},
   "outputs": [],
   "source": [
    "# Insigt 2.5\n",
    "\n",
    "Tvshow_cast = e[e['type'] == 'TV Show']\n"
   ]
  },
  {
   "cell_type": "code",
   "execution_count": 33,
   "id": "5e2ced79",
   "metadata": {},
   "outputs": [],
   "source": [
    "# Insigt 2.5\n",
    "\n",
    "Tvshow_cast = Tvshow_cast[Tvshow_cast['cast'] != 'nan']\n",
    "TvShow_cast =pd.DataFrame(Tvshow_cast.value_counts().head(5))\n",
    "TvShow_cast.reset_index(inplace=True)\n",
    "TvShow_cast.rename(columns={0:'no_of_shows'},inplace=True)\n"
   ]
  },
  {
   "cell_type": "code",
   "execution_count": 34,
   "id": "b831e8ee",
   "metadata": {},
   "outputs": [
    {
     "data": {
      "text/html": [
       "<div>\n",
       "<style scoped>\n",
       "    .dataframe tbody tr th:only-of-type {\n",
       "        vertical-align: middle;\n",
       "    }\n",
       "\n",
       "    .dataframe tbody tr th {\n",
       "        vertical-align: top;\n",
       "    }\n",
       "\n",
       "    .dataframe thead th {\n",
       "        text-align: right;\n",
       "    }\n",
       "</style>\n",
       "<table border=\"1\" class=\"dataframe\">\n",
       "  <thead>\n",
       "    <tr style=\"text-align: right;\">\n",
       "      <th></th>\n",
       "      <th>type</th>\n",
       "      <th>cast</th>\n",
       "      <th>no_of_shows</th>\n",
       "    </tr>\n",
       "  </thead>\n",
       "  <tbody>\n",
       "    <tr>\n",
       "      <th>0</th>\n",
       "      <td>TV Show</td>\n",
       "      <td>Takahiro Sakurai</td>\n",
       "      <td>25</td>\n",
       "    </tr>\n",
       "    <tr>\n",
       "      <th>1</th>\n",
       "      <td>TV Show</td>\n",
       "      <td>Yuki Kaji</td>\n",
       "      <td>19</td>\n",
       "    </tr>\n",
       "    <tr>\n",
       "      <th>2</th>\n",
       "      <td>TV Show</td>\n",
       "      <td>Junichi Suwabe</td>\n",
       "      <td>17</td>\n",
       "    </tr>\n",
       "    <tr>\n",
       "      <th>3</th>\n",
       "      <td>TV Show</td>\n",
       "      <td>Daisuke Ono</td>\n",
       "      <td>17</td>\n",
       "    </tr>\n",
       "    <tr>\n",
       "      <th>4</th>\n",
       "      <td>TV Show</td>\n",
       "      <td>Ai Kayano</td>\n",
       "      <td>17</td>\n",
       "    </tr>\n",
       "  </tbody>\n",
       "</table>\n",
       "</div>"
      ],
      "text/plain": [
       "      type              cast  no_of_shows\n",
       "0  TV Show  Takahiro Sakurai           25\n",
       "1  TV Show         Yuki Kaji           19\n",
       "2  TV Show    Junichi Suwabe           17\n",
       "3  TV Show       Daisuke Ono           17\n",
       "4  TV Show         Ai Kayano           17"
      ]
     },
     "execution_count": 34,
     "metadata": {},
     "output_type": "execute_result"
    }
   ],
   "source": [
    "# Insigt 2.5\n",
    "\n",
    "TvShow_cast"
   ]
  },
  {
   "cell_type": "code",
   "execution_count": 95,
   "id": "bb6480e7",
   "metadata": {},
   "outputs": [
    {
     "data": {
      "text/plain": [
       "show_id            0\n",
       "type               0\n",
       "title              0\n",
       "director        2634\n",
       "cast             825\n",
       "country          831\n",
       "date_added        10\n",
       "release_year       0\n",
       "rating             4\n",
       "duration           3\n",
       "listed_in          0\n",
       "description        0\n",
       "dtype: int64"
      ]
     },
     "execution_count": 95,
     "metadata": {},
     "output_type": "execute_result"
    }
   ],
   "source": [
    "# Insigt 2.6\n",
    "df.isnull().sum()"
   ]
  },
  {
   "cell_type": "code",
   "execution_count": 36,
   "id": "16a63192",
   "metadata": {},
   "outputs": [
    {
     "data": {
      "text/html": [
       "<div>\n",
       "<style scoped>\n",
       "    .dataframe tbody tr th:only-of-type {\n",
       "        vertical-align: middle;\n",
       "    }\n",
       "\n",
       "    .dataframe tbody tr th {\n",
       "        vertical-align: top;\n",
       "    }\n",
       "\n",
       "    .dataframe thead th {\n",
       "        text-align: right;\n",
       "    }\n",
       "</style>\n",
       "<table border=\"1\" class=\"dataframe\">\n",
       "  <thead>\n",
       "    <tr style=\"text-align: right;\">\n",
       "      <th></th>\n",
       "      <th>release_year</th>\n",
       "    </tr>\n",
       "  </thead>\n",
       "  <tbody>\n",
       "    <tr>\n",
       "      <th>count</th>\n",
       "      <td>8807.000000</td>\n",
       "    </tr>\n",
       "    <tr>\n",
       "      <th>mean</th>\n",
       "      <td>2014.180198</td>\n",
       "    </tr>\n",
       "    <tr>\n",
       "      <th>std</th>\n",
       "      <td>8.819312</td>\n",
       "    </tr>\n",
       "    <tr>\n",
       "      <th>min</th>\n",
       "      <td>1925.000000</td>\n",
       "    </tr>\n",
       "    <tr>\n",
       "      <th>25%</th>\n",
       "      <td>2013.000000</td>\n",
       "    </tr>\n",
       "    <tr>\n",
       "      <th>50%</th>\n",
       "      <td>2017.000000</td>\n",
       "    </tr>\n",
       "    <tr>\n",
       "      <th>75%</th>\n",
       "      <td>2019.000000</td>\n",
       "    </tr>\n",
       "    <tr>\n",
       "      <th>max</th>\n",
       "      <td>2021.000000</td>\n",
       "    </tr>\n",
       "  </tbody>\n",
       "</table>\n",
       "</div>"
      ],
      "text/plain": [
       "       release_year\n",
       "count   8807.000000\n",
       "mean    2014.180198\n",
       "std        8.819312\n",
       "min     1925.000000\n",
       "25%     2013.000000\n",
       "50%     2017.000000\n",
       "75%     2019.000000\n",
       "max     2021.000000"
      ]
     },
     "execution_count": 36,
     "metadata": {},
     "output_type": "execute_result"
    }
   ],
   "source": [
    "# Insigt 2.7\n",
    "df.describe()  "
   ]
  },
  {
   "cell_type": "markdown",
   "id": "fe32c410",
   "metadata": {},
   "source": [
    "# Observation for part 2."
   ]
  },
  {
   "cell_type": "markdown",
   "id": "c38ace4f",
   "metadata": {},
   "source": [
    "Insight 2.1 : It states we have 8807 rows ans 12 columns.\n",
    "\n",
    "Insight 2.2 : It reprsents diffrent types of all the attributes.\n",
    "\n",
    "Insight 2.3 : Conversion of categorical attributes to 'category', which represents best actors according to directors.\n",
    "\n",
    "Insight 2.4 : Represents top 5 actors specifically for movies.\n",
    "\n",
    "Insight 2.5 : Represents top 5 actors specifically for tv shows.\n",
    "\n",
    "Insight 2.6 : Missing values counts. \n",
    "\n",
    "Insight 2.7 : Statistical summary for the dataset.\n"
   ]
  },
  {
   "cell_type": "markdown",
   "id": "5af9417b",
   "metadata": {},
   "source": [
    "# 3. Non-Graphical Analysis: Value counts and unique attributes  (10 Points)"
   ]
  },
  {
   "cell_type": "code",
   "execution_count": 37,
   "id": "c83180f6",
   "metadata": {},
   "outputs": [
    {
     "data": {
      "text/plain": [
       "74"
      ]
     },
     "execution_count": 37,
     "metadata": {},
     "output_type": "execute_result"
    }
   ],
   "source": [
    "# Insight 3.1\n",
    "\n",
    "Total_Years = df['release_year'].unique()\n",
    "np.sort(Total_Years)[::-1]\n",
    "len(Total_Years)"
   ]
  },
  {
   "cell_type": "code",
   "execution_count": 38,
   "id": "7672fbb3",
   "metadata": {},
   "outputs": [
    {
     "data": {
      "text/plain": [
       "Movie      6131\n",
       "TV Show    2676\n",
       "Name: type, dtype: int64"
      ]
     },
     "execution_count": 38,
     "metadata": {},
     "output_type": "execute_result"
    }
   ],
   "source": [
    "# Insight 3.2\n",
    "df['type'].value_counts()"
   ]
  },
  {
   "cell_type": "code",
   "execution_count": 39,
   "id": "70d5313b",
   "metadata": {},
   "outputs": [],
   "source": [
    "# Insight 3.3\n",
    "Countrywise_Moviecount = df.groupby('country')['listed_in'].nunique().sort_values(ascending = False)\n",
    "Countrywise_Moviecount = Countrywise_Moviecount.to_frame()\n",
    "Countrywise_Moviecount.reset_index(inplace=True)\n",
    "\n"
   ]
  },
  {
   "cell_type": "code",
   "execution_count": 40,
   "id": "b5fdd0a4",
   "metadata": {},
   "outputs": [
    {
     "data": {
      "text/html": [
       "<div>\n",
       "<style scoped>\n",
       "    .dataframe tbody tr th:only-of-type {\n",
       "        vertical-align: middle;\n",
       "    }\n",
       "\n",
       "    .dataframe tbody tr th {\n",
       "        vertical-align: top;\n",
       "    }\n",
       "\n",
       "    .dataframe thead th {\n",
       "        text-align: right;\n",
       "    }\n",
       "</style>\n",
       "<table border=\"1\" class=\"dataframe\">\n",
       "  <thead>\n",
       "    <tr style=\"text-align: right;\">\n",
       "      <th></th>\n",
       "      <th>country</th>\n",
       "      <th>listed_in</th>\n",
       "    </tr>\n",
       "  </thead>\n",
       "  <tbody>\n",
       "    <tr>\n",
       "      <th>0</th>\n",
       "      <td>United States</td>\n",
       "      <td>310</td>\n",
       "    </tr>\n",
       "    <tr>\n",
       "      <th>1</th>\n",
       "      <td>United Kingdom</td>\n",
       "      <td>100</td>\n",
       "    </tr>\n",
       "    <tr>\n",
       "      <th>2</th>\n",
       "      <td>India</td>\n",
       "      <td>90</td>\n",
       "    </tr>\n",
       "    <tr>\n",
       "      <th>3</th>\n",
       "      <td>Canada</td>\n",
       "      <td>85</td>\n",
       "    </tr>\n",
       "    <tr>\n",
       "      <th>4</th>\n",
       "      <td>Japan</td>\n",
       "      <td>55</td>\n",
       "    </tr>\n",
       "  </tbody>\n",
       "</table>\n",
       "</div>"
      ],
      "text/plain": [
       "          country  listed_in\n",
       "0   United States        310\n",
       "1  United Kingdom        100\n",
       "2           India         90\n",
       "3          Canada         85\n",
       "4           Japan         55"
      ]
     },
     "execution_count": 40,
     "metadata": {},
     "output_type": "execute_result"
    }
   ],
   "source": [
    "# Insight 3.3\n",
    "\n",
    "Countrywise_Moviecount.head()"
   ]
  },
  {
   "cell_type": "markdown",
   "id": "9618a77e",
   "metadata": {},
   "source": [
    "# extra"
   ]
  },
  {
   "cell_type": "code",
   "execution_count": 41,
   "id": "64e629ad",
   "metadata": {},
   "outputs": [],
   "source": [
    "mv = df.loc[df['type'] == 'Movie']\n",
    "tv = df.loc[df['type'] == 'TV Show']"
   ]
  },
  {
   "cell_type": "code",
   "execution_count": 42,
   "id": "133ce026",
   "metadata": {},
   "outputs": [],
   "source": [
    "mv = mv.groupby('country')['listed_in'].nunique().sort_values(ascending=False)\n",
    "mv = pd.DataFrame(mv)\n",
    "mv.reset_index(inplace=True)\n"
   ]
  },
  {
   "cell_type": "code",
   "execution_count": 43,
   "id": "ebb96e34",
   "metadata": {},
   "outputs": [
    {
     "data": {
      "text/html": [
       "<div>\n",
       "<style scoped>\n",
       "    .dataframe tbody tr th:only-of-type {\n",
       "        vertical-align: middle;\n",
       "    }\n",
       "\n",
       "    .dataframe tbody tr th {\n",
       "        vertical-align: top;\n",
       "    }\n",
       "\n",
       "    .dataframe thead th {\n",
       "        text-align: right;\n",
       "    }\n",
       "</style>\n",
       "<table border=\"1\" class=\"dataframe\">\n",
       "  <thead>\n",
       "    <tr style=\"text-align: right;\">\n",
       "      <th></th>\n",
       "      <th>country</th>\n",
       "      <th>listed_in</th>\n",
       "    </tr>\n",
       "  </thead>\n",
       "  <tbody>\n",
       "    <tr>\n",
       "      <th>0</th>\n",
       "      <td>United States</td>\n",
       "      <td>179</td>\n",
       "    </tr>\n",
       "    <tr>\n",
       "      <th>1</th>\n",
       "      <td>United Kingdom</td>\n",
       "      <td>63</td>\n",
       "    </tr>\n",
       "    <tr>\n",
       "      <th>2</th>\n",
       "      <td>India</td>\n",
       "      <td>62</td>\n",
       "    </tr>\n",
       "    <tr>\n",
       "      <th>3</th>\n",
       "      <td>Canada</td>\n",
       "      <td>53</td>\n",
       "    </tr>\n",
       "    <tr>\n",
       "      <th>4</th>\n",
       "      <td>United Kingdom, United States</td>\n",
       "      <td>38</td>\n",
       "    </tr>\n",
       "  </tbody>\n",
       "</table>\n",
       "</div>"
      ],
      "text/plain": [
       "                         country  listed_in\n",
       "0                  United States        179\n",
       "1                 United Kingdom         63\n",
       "2                          India         62\n",
       "3                         Canada         53\n",
       "4  United Kingdom, United States         38"
      ]
     },
     "execution_count": 43,
     "metadata": {},
     "output_type": "execute_result"
    }
   ],
   "source": [
    "mvv = mv \n",
    "mv=mv.head()\n",
    "mv\n"
   ]
  },
  {
   "cell_type": "code",
   "execution_count": 44,
   "id": "abaa378f",
   "metadata": {},
   "outputs": [],
   "source": [
    "tv = tv.groupby('country')['listed_in'].nunique().sort_values(ascending=False)\n",
    "tv = pd.DataFrame(tv)\n",
    "tv.reset_index(inplace=True)"
   ]
  },
  {
   "cell_type": "code",
   "execution_count": 45,
   "id": "2573b3da",
   "metadata": {},
   "outputs": [
    {
     "data": {
      "text/html": [
       "<div>\n",
       "<style scoped>\n",
       "    .dataframe tbody tr th:only-of-type {\n",
       "        vertical-align: middle;\n",
       "    }\n",
       "\n",
       "    .dataframe tbody tr th {\n",
       "        vertical-align: top;\n",
       "    }\n",
       "\n",
       "    .dataframe thead th {\n",
       "        text-align: right;\n",
       "    }\n",
       "</style>\n",
       "<table border=\"1\" class=\"dataframe\">\n",
       "  <thead>\n",
       "    <tr style=\"text-align: right;\">\n",
       "      <th></th>\n",
       "      <th>country</th>\n",
       "      <th>listed_in</th>\n",
       "    </tr>\n",
       "  </thead>\n",
       "  <tbody>\n",
       "    <tr>\n",
       "      <th>0</th>\n",
       "      <td>United States</td>\n",
       "      <td>131</td>\n",
       "    </tr>\n",
       "    <tr>\n",
       "      <th>1</th>\n",
       "      <td>United Kingdom</td>\n",
       "      <td>37</td>\n",
       "    </tr>\n",
       "    <tr>\n",
       "      <th>2</th>\n",
       "      <td>Canada</td>\n",
       "      <td>32</td>\n",
       "    </tr>\n",
       "    <tr>\n",
       "      <th>3</th>\n",
       "      <td>Japan</td>\n",
       "      <td>30</td>\n",
       "    </tr>\n",
       "    <tr>\n",
       "      <th>4</th>\n",
       "      <td>India</td>\n",
       "      <td>28</td>\n",
       "    </tr>\n",
       "  </tbody>\n",
       "</table>\n",
       "</div>"
      ],
      "text/plain": [
       "          country  listed_in\n",
       "0   United States        131\n",
       "1  United Kingdom         37\n",
       "2          Canada         32\n",
       "3           Japan         30\n",
       "4           India         28"
      ]
     },
     "execution_count": 45,
     "metadata": {},
     "output_type": "execute_result"
    }
   ],
   "source": [
    "tvv = tv\n",
    "tv=tv.head()\n",
    "tv"
   ]
  },
  {
   "cell_type": "code",
   "execution_count": 46,
   "id": "51088457",
   "metadata": {},
   "outputs": [],
   "source": [
    "merged_df = mv.merge(tv,on='country')\n"
   ]
  },
  {
   "cell_type": "code",
   "execution_count": 47,
   "id": "d742d7e9",
   "metadata": {},
   "outputs": [
    {
     "data": {
      "text/html": [
       "<div>\n",
       "<style scoped>\n",
       "    .dataframe tbody tr th:only-of-type {\n",
       "        vertical-align: middle;\n",
       "    }\n",
       "\n",
       "    .dataframe tbody tr th {\n",
       "        vertical-align: top;\n",
       "    }\n",
       "\n",
       "    .dataframe thead th {\n",
       "        text-align: right;\n",
       "    }\n",
       "</style>\n",
       "<table border=\"1\" class=\"dataframe\">\n",
       "  <thead>\n",
       "    <tr style=\"text-align: right;\">\n",
       "      <th></th>\n",
       "      <th>country</th>\n",
       "      <th>Movies</th>\n",
       "      <th>TV Shows</th>\n",
       "    </tr>\n",
       "  </thead>\n",
       "  <tbody>\n",
       "    <tr>\n",
       "      <th>0</th>\n",
       "      <td>United States</td>\n",
       "      <td>179</td>\n",
       "      <td>131</td>\n",
       "    </tr>\n",
       "    <tr>\n",
       "      <th>1</th>\n",
       "      <td>United Kingdom</td>\n",
       "      <td>63</td>\n",
       "      <td>37</td>\n",
       "    </tr>\n",
       "    <tr>\n",
       "      <th>2</th>\n",
       "      <td>India</td>\n",
       "      <td>62</td>\n",
       "      <td>28</td>\n",
       "    </tr>\n",
       "    <tr>\n",
       "      <th>3</th>\n",
       "      <td>Canada</td>\n",
       "      <td>53</td>\n",
       "      <td>32</td>\n",
       "    </tr>\n",
       "  </tbody>\n",
       "</table>\n",
       "</div>"
      ],
      "text/plain": [
       "          country  Movies  TV Shows\n",
       "0   United States     179       131\n",
       "1  United Kingdom      63        37\n",
       "2           India      62        28\n",
       "3          Canada      53        32"
      ]
     },
     "execution_count": 47,
     "metadata": {},
     "output_type": "execute_result"
    }
   ],
   "source": [
    "merged_df = merged_df.rename(columns={'listed_in_x':'Movies','listed_in_y':'TV Shows'})\n",
    "merged_df"
   ]
  },
  {
   "cell_type": "code",
   "execution_count": 48,
   "id": "ab1af5c5",
   "metadata": {},
   "outputs": [],
   "source": [
    "TVs = df.loc[df['type'] == 'TV Show']\n",
    "TVs = TVs.groupby('release_year')['listed_in'].nunique().sort_values(ascending=False)\n",
    "TVs = pd.DataFrame(TVs)\n",
    "TVs.reset_index(inplace=True)"
   ]
  },
  {
   "cell_type": "code",
   "execution_count": 49,
   "id": "43e7a4c5",
   "metadata": {},
   "outputs": [],
   "source": [
    "d_m = df.loc[df['type'] == 'Movie']\n",
    "d_m = d_m.groupby('release_year')['listed_in'].nunique().sort_values(ascending=False)\n",
    "d_m = pd.DataFrame(d_m)\n",
    "d_m.reset_index(inplace=True)"
   ]
  },
  {
   "cell_type": "code",
   "execution_count": 50,
   "id": "2cb6e764",
   "metadata": {},
   "outputs": [
    {
     "data": {
      "text/html": [
       "<div>\n",
       "<style scoped>\n",
       "    .dataframe tbody tr th:only-of-type {\n",
       "        vertical-align: middle;\n",
       "    }\n",
       "\n",
       "    .dataframe tbody tr th {\n",
       "        vertical-align: top;\n",
       "    }\n",
       "\n",
       "    .dataframe thead th {\n",
       "        text-align: right;\n",
       "    }\n",
       "</style>\n",
       "<table border=\"1\" class=\"dataframe\">\n",
       "  <thead>\n",
       "    <tr style=\"text-align: right;\">\n",
       "      <th></th>\n",
       "      <th>release_year</th>\n",
       "      <th>listed_in</th>\n",
       "    </tr>\n",
       "  </thead>\n",
       "  <tbody>\n",
       "    <tr>\n",
       "      <th>0</th>\n",
       "      <td>2020</td>\n",
       "      <td>122</td>\n",
       "    </tr>\n",
       "  </tbody>\n",
       "</table>\n",
       "</div>"
      ],
      "text/plain": [
       "   release_year  listed_in\n",
       "0          2020        122"
      ]
     },
     "execution_count": 50,
     "metadata": {},
     "output_type": "execute_result"
    }
   ],
   "source": [
    "TVs.head(1)"
   ]
  },
  {
   "cell_type": "markdown",
   "id": "394f2379",
   "metadata": {},
   "source": [
    "# extra end"
   ]
  },
  {
   "cell_type": "code",
   "execution_count": 51,
   "id": "2a2b114f",
   "metadata": {},
   "outputs": [
    {
     "data": {
      "text/html": [
       "<div>\n",
       "<style scoped>\n",
       "    .dataframe tbody tr th:only-of-type {\n",
       "        vertical-align: middle;\n",
       "    }\n",
       "\n",
       "    .dataframe tbody tr th {\n",
       "        vertical-align: top;\n",
       "    }\n",
       "\n",
       "    .dataframe thead th {\n",
       "        text-align: right;\n",
       "    }\n",
       "</style>\n",
       "<table border=\"1\" class=\"dataframe\">\n",
       "  <thead>\n",
       "    <tr style=\"text-align: right;\">\n",
       "      <th></th>\n",
       "      <th>country</th>\n",
       "      <th>listed_in</th>\n",
       "    </tr>\n",
       "  </thead>\n",
       "  <tbody>\n",
       "    <tr>\n",
       "      <th>0</th>\n",
       "      <td>, France, Algeria</td>\n",
       "      <td>[Dramas, Independent Movies, International Mov...</td>\n",
       "    </tr>\n",
       "    <tr>\n",
       "      <th>1</th>\n",
       "      <td>, South Korea</td>\n",
       "      <td>[International TV Shows, TV Dramas]</td>\n",
       "    </tr>\n",
       "    <tr>\n",
       "      <th>2</th>\n",
       "      <td>Argentina</td>\n",
       "      <td>[Crime TV Shows, International TV Shows, Spani...</td>\n",
       "    </tr>\n",
       "    <tr>\n",
       "      <th>3</th>\n",
       "      <td>Argentina, Brazil, France, Poland, Germany, De...</td>\n",
       "      <td>[Dramas, International Movies, Thrillers]</td>\n",
       "    </tr>\n",
       "    <tr>\n",
       "      <th>4</th>\n",
       "      <td>Argentina, Chile</td>\n",
       "      <td>[Dramas, Independent Movies, International Mov...</td>\n",
       "    </tr>\n",
       "  </tbody>\n",
       "</table>\n",
       "</div>"
      ],
      "text/plain": [
       "                                             country  \\\n",
       "0                                  , France, Algeria   \n",
       "1                                      , South Korea   \n",
       "2                                          Argentina   \n",
       "3  Argentina, Brazil, France, Poland, Germany, De...   \n",
       "4                                   Argentina, Chile   \n",
       "\n",
       "                                           listed_in  \n",
       "0  [Dramas, Independent Movies, International Mov...  \n",
       "1                [International TV Shows, TV Dramas]  \n",
       "2  [Crime TV Shows, International TV Shows, Spani...  \n",
       "3          [Dramas, International Movies, Thrillers]  \n",
       "4  [Dramas, Independent Movies, International Mov...  "
      ]
     },
     "execution_count": 51,
     "metadata": {},
     "output_type": "execute_result"
    }
   ],
   "source": [
    "# Insight 3.4\n",
    "\n",
    "Countrywise_Movietypes = df.groupby('country')['listed_in'].unique()\n",
    "Countrywise_Movietypes = Countrywise_Movietypes.to_frame()\n",
    "Countrywise_Movietypes.reset_index().head()\n"
   ]
  },
  {
   "cell_type": "code",
   "execution_count": 52,
   "id": "623b5820",
   "metadata": {},
   "outputs": [],
   "source": [
    "# Insight 3.5\n",
    "\n",
    "Movie_Yearwise = df['release_year'].value_counts().sort_values(ascending=False)\n",
    "Movie_Yearwise = pd.DataFrame(Movie_Yearwise)\n"
   ]
  },
  {
   "cell_type": "code",
   "execution_count": 53,
   "id": "5bf7b9c2",
   "metadata": {},
   "outputs": [],
   "source": [
    "# Insight 3.5\n",
    "\n",
    "Movie_Yearwise.reset_index(inplace=True)\n"
   ]
  },
  {
   "cell_type": "code",
   "execution_count": 54,
   "id": "b22ce869",
   "metadata": {},
   "outputs": [],
   "source": [
    "# Insight 3.5\n",
    "\n",
    "Movie_Yearwise = Movie_Yearwise.rename(columns={'index' : 'Year','release_year' : 'Counts'})\n"
   ]
  },
  {
   "cell_type": "code",
   "execution_count": 55,
   "id": "05e0f8c3",
   "metadata": {},
   "outputs": [
    {
     "data": {
      "text/html": [
       "<div>\n",
       "<style scoped>\n",
       "    .dataframe tbody tr th:only-of-type {\n",
       "        vertical-align: middle;\n",
       "    }\n",
       "\n",
       "    .dataframe tbody tr th {\n",
       "        vertical-align: top;\n",
       "    }\n",
       "\n",
       "    .dataframe thead th {\n",
       "        text-align: right;\n",
       "    }\n",
       "</style>\n",
       "<table border=\"1\" class=\"dataframe\">\n",
       "  <thead>\n",
       "    <tr style=\"text-align: right;\">\n",
       "      <th></th>\n",
       "      <th>Year</th>\n",
       "      <th>Counts</th>\n",
       "    </tr>\n",
       "  </thead>\n",
       "  <tbody>\n",
       "    <tr>\n",
       "      <th>0</th>\n",
       "      <td>2018</td>\n",
       "      <td>1147</td>\n",
       "    </tr>\n",
       "    <tr>\n",
       "      <th>1</th>\n",
       "      <td>2017</td>\n",
       "      <td>1032</td>\n",
       "    </tr>\n",
       "    <tr>\n",
       "      <th>2</th>\n",
       "      <td>2019</td>\n",
       "      <td>1030</td>\n",
       "    </tr>\n",
       "    <tr>\n",
       "      <th>3</th>\n",
       "      <td>2020</td>\n",
       "      <td>953</td>\n",
       "    </tr>\n",
       "    <tr>\n",
       "      <th>4</th>\n",
       "      <td>2016</td>\n",
       "      <td>902</td>\n",
       "    </tr>\n",
       "  </tbody>\n",
       "</table>\n",
       "</div>"
      ],
      "text/plain": [
       "   Year  Counts\n",
       "0  2018    1147\n",
       "1  2017    1032\n",
       "2  2019    1030\n",
       "3  2020     953\n",
       "4  2016     902"
      ]
     },
     "execution_count": 55,
     "metadata": {},
     "output_type": "execute_result"
    }
   ],
   "source": [
    "# Insight 3.5\n",
    "\n",
    "Movie_Yearwise.head()"
   ]
  },
  {
   "cell_type": "code",
   "execution_count": 56,
   "id": "528cecc4",
   "metadata": {},
   "outputs": [
    {
     "data": {
      "text/html": [
       "<div>\n",
       "<style scoped>\n",
       "    .dataframe tbody tr th:only-of-type {\n",
       "        vertical-align: middle;\n",
       "    }\n",
       "\n",
       "    .dataframe tbody tr th {\n",
       "        vertical-align: top;\n",
       "    }\n",
       "\n",
       "    .dataframe thead th {\n",
       "        text-align: right;\n",
       "    }\n",
       "</style>\n",
       "<table border=\"1\" class=\"dataframe\">\n",
       "  <thead>\n",
       "    <tr style=\"text-align: right;\">\n",
       "      <th></th>\n",
       "      <th>type</th>\n",
       "      <th>cast</th>\n",
       "      <th>country</th>\n",
       "    </tr>\n",
       "  </thead>\n",
       "  <tbody>\n",
       "    <tr>\n",
       "      <th>680625</th>\n",
       "      <td>TV Show</td>\n",
       "      <td>Ama Qamata</td>\n",
       "      <td>South Africa</td>\n",
       "    </tr>\n",
       "    <tr>\n",
       "      <th>680626</th>\n",
       "      <td>TV Show</td>\n",
       "      <td>Khosi Ngema</td>\n",
       "      <td>South Africa</td>\n",
       "    </tr>\n",
       "    <tr>\n",
       "      <th>680627</th>\n",
       "      <td>TV Show</td>\n",
       "      <td>Gail Mabalane</td>\n",
       "      <td>South Africa</td>\n",
       "    </tr>\n",
       "    <tr>\n",
       "      <th>680628</th>\n",
       "      <td>TV Show</td>\n",
       "      <td>Thabang Molaba</td>\n",
       "      <td>South Africa</td>\n",
       "    </tr>\n",
       "    <tr>\n",
       "      <th>680629</th>\n",
       "      <td>TV Show</td>\n",
       "      <td>Thabang Molaba</td>\n",
       "      <td>South Africa</td>\n",
       "    </tr>\n",
       "    <tr>\n",
       "      <th>...</th>\n",
       "      <td>...</td>\n",
       "      <td>...</td>\n",
       "      <td>...</td>\n",
       "    </tr>\n",
       "    <tr>\n",
       "      <th>923086</th>\n",
       "      <td>Movie</td>\n",
       "      <td>Ryan Newman</td>\n",
       "      <td>United States</td>\n",
       "    </tr>\n",
       "    <tr>\n",
       "      <th>923087</th>\n",
       "      <td>Movie</td>\n",
       "      <td>Raaghav Chanana</td>\n",
       "      <td>India</td>\n",
       "    </tr>\n",
       "    <tr>\n",
       "      <th>923088</th>\n",
       "      <td>Movie</td>\n",
       "      <td>Malkeet Rauni</td>\n",
       "      <td>India</td>\n",
       "    </tr>\n",
       "    <tr>\n",
       "      <th>923089</th>\n",
       "      <td>Movie</td>\n",
       "      <td>Anita Shabdish</td>\n",
       "      <td>India</td>\n",
       "    </tr>\n",
       "    <tr>\n",
       "      <th>923090</th>\n",
       "      <td>Movie</td>\n",
       "      <td>Chittaranjan Tripathy</td>\n",
       "      <td>India</td>\n",
       "    </tr>\n",
       "  </tbody>\n",
       "</table>\n",
       "<p>222501 rows × 3 columns</p>\n",
       "</div>"
      ],
      "text/plain": [
       "           type                   cast        country\n",
       "680625  TV Show             Ama Qamata   South Africa\n",
       "680626  TV Show            Khosi Ngema   South Africa\n",
       "680627  TV Show          Gail Mabalane   South Africa\n",
       "680628  TV Show         Thabang Molaba   South Africa\n",
       "680629  TV Show         Thabang Molaba   South Africa\n",
       "...         ...                    ...            ...\n",
       "923086    Movie            Ryan Newman  United States\n",
       "923087    Movie        Raaghav Chanana          India\n",
       "923088    Movie          Malkeet Rauni          India\n",
       "923089    Movie         Anita Shabdish          India\n",
       "923090    Movie  Chittaranjan Tripathy          India\n",
       "\n",
       "[222501 rows x 3 columns]"
      ]
     },
     "execution_count": 56,
     "metadata": {},
     "output_type": "execute_result"
    }
   ],
   "source": [
    "# Insight 3.6\n",
    "\n",
    "\n",
    "Mask = df['cast'].apply(lambda x: str(x).split(', ')).to_list()\n",
    "ty = pd.DataFrame(Mask,index=df['type'])\n",
    "ty = ty.stack()\n",
    "ty = pd.DataFrame(ty)\n",
    "ty.reset_index(inplace=True)\n",
    "ty.rename(columns={0:'cast'},inplace=True)\n",
    "ty.drop('level_1',axis=1,inplace=True)\n",
    "\n",
    "\n",
    "\n",
    "Mask = df['cast'].apply(lambda x: str(x).split(', ')).to_list()\n",
    "co = pd.DataFrame(Mask,index=df['country'])\n",
    "co = co.stack()\n",
    "co = pd.DataFrame(co)\n",
    "co.reset_index(inplace=True)\n",
    "co.rename(columns={0:'cast'},inplace=True)\n",
    "co.drop('level_1',axis=1,inplace=True)\n",
    "\n",
    "\n",
    "\n",
    "# Master_Data = ty.merge(co,on='cast')\n",
    "# Master_Data = Master_Data.dropna()\n",
    "# Master_Data = Master_Data.loc[Master_Data['cast'] != 'nan']\n",
    "# Master_Data\n",
    "\n",
    "\n",
    "Master_Data = ty.merge(co,on='cast')\n",
    "Master_Data = Master_Data.dropna()\n",
    "Master_Data = Master_Data.loc[Master_Data['cast'] != 'nan']\n",
    "Master_Data\n",
    "\n",
    "\n",
    "\n",
    "\n",
    "\n",
    "\n",
    "\n",
    "\n",
    "\n",
    "\n"
   ]
  },
  {
   "cell_type": "code",
   "execution_count": 90,
   "id": "4359a472",
   "metadata": {},
   "outputs": [
    {
     "data": {
      "text/html": [
       "<div>\n",
       "<style scoped>\n",
       "    .dataframe tbody tr th:only-of-type {\n",
       "        vertical-align: middle;\n",
       "    }\n",
       "\n",
       "    .dataframe tbody tr th {\n",
       "        vertical-align: top;\n",
       "    }\n",
       "\n",
       "    .dataframe thead th {\n",
       "        text-align: right;\n",
       "    }\n",
       "</style>\n",
       "<table border=\"1\" class=\"dataframe\">\n",
       "  <thead>\n",
       "    <tr style=\"text-align: right;\">\n",
       "      <th></th>\n",
       "      <th>type</th>\n",
       "      <th>cast</th>\n",
       "    </tr>\n",
       "  </thead>\n",
       "  <tbody>\n",
       "    <tr>\n",
       "      <th>0</th>\n",
       "      <td>Movie</td>\n",
       "      <td>nan</td>\n",
       "    </tr>\n",
       "    <tr>\n",
       "      <th>1</th>\n",
       "      <td>TV Show</td>\n",
       "      <td>Ama Qamata</td>\n",
       "    </tr>\n",
       "    <tr>\n",
       "      <th>2</th>\n",
       "      <td>TV Show</td>\n",
       "      <td>Khosi Ngema</td>\n",
       "    </tr>\n",
       "    <tr>\n",
       "      <th>3</th>\n",
       "      <td>TV Show</td>\n",
       "      <td>Gail Mabalane</td>\n",
       "    </tr>\n",
       "    <tr>\n",
       "      <th>4</th>\n",
       "      <td>TV Show</td>\n",
       "      <td>Thabang Molaba</td>\n",
       "    </tr>\n",
       "    <tr>\n",
       "      <th>...</th>\n",
       "      <td>...</td>\n",
       "      <td>...</td>\n",
       "    </tr>\n",
       "    <tr>\n",
       "      <th>64946</th>\n",
       "      <td>Movie</td>\n",
       "      <td>Manish Chaudhary</td>\n",
       "    </tr>\n",
       "    <tr>\n",
       "      <th>64947</th>\n",
       "      <td>Movie</td>\n",
       "      <td>Meghna Malik</td>\n",
       "    </tr>\n",
       "    <tr>\n",
       "      <th>64948</th>\n",
       "      <td>Movie</td>\n",
       "      <td>Malkeet Rauni</td>\n",
       "    </tr>\n",
       "    <tr>\n",
       "      <th>64949</th>\n",
       "      <td>Movie</td>\n",
       "      <td>Anita Shabdish</td>\n",
       "    </tr>\n",
       "    <tr>\n",
       "      <th>64950</th>\n",
       "      <td>Movie</td>\n",
       "      <td>Chittaranjan Tripathy</td>\n",
       "    </tr>\n",
       "  </tbody>\n",
       "</table>\n",
       "<p>64951 rows × 2 columns</p>\n",
       "</div>"
      ],
      "text/plain": [
       "          type                   cast\n",
       "0        Movie                    nan\n",
       "1      TV Show             Ama Qamata\n",
       "2      TV Show            Khosi Ngema\n",
       "3      TV Show          Gail Mabalane\n",
       "4      TV Show         Thabang Molaba\n",
       "...        ...                    ...\n",
       "64946    Movie       Manish Chaudhary\n",
       "64947    Movie           Meghna Malik\n",
       "64948    Movie          Malkeet Rauni\n",
       "64949    Movie         Anita Shabdish\n",
       "64950    Movie  Chittaranjan Tripathy\n",
       "\n",
       "[64951 rows x 2 columns]"
      ]
     },
     "execution_count": 90,
     "metadata": {},
     "output_type": "execute_result"
    }
   ],
   "source": [
    "ty"
   ]
  },
  {
   "cell_type": "markdown",
   "id": "b2c74f4b",
   "metadata": {},
   "source": [
    "# Extra"
   ]
  },
  {
   "cell_type": "code",
   "execution_count": 57,
   "id": "99e2cd07",
   "metadata": {},
   "outputs": [
    {
     "data": {
      "text/html": [
       "<div>\n",
       "<style scoped>\n",
       "    .dataframe tbody tr th:only-of-type {\n",
       "        vertical-align: middle;\n",
       "    }\n",
       "\n",
       "    .dataframe tbody tr th {\n",
       "        vertical-align: top;\n",
       "    }\n",
       "\n",
       "    .dataframe thead th {\n",
       "        text-align: right;\n",
       "    }\n",
       "</style>\n",
       "<table border=\"1\" class=\"dataframe\">\n",
       "  <thead>\n",
       "    <tr style=\"text-align: right;\">\n",
       "      <th></th>\n",
       "      <th>country</th>\n",
       "    </tr>\n",
       "  </thead>\n",
       "  <tbody>\n",
       "    <tr>\n",
       "      <th>United States</th>\n",
       "      <td>77654</td>\n",
       "    </tr>\n",
       "    <tr>\n",
       "      <th>India</th>\n",
       "      <td>41569</td>\n",
       "    </tr>\n",
       "    <tr>\n",
       "      <th>Japan</th>\n",
       "      <td>17259</td>\n",
       "    </tr>\n",
       "    <tr>\n",
       "      <th>United Kingdom</th>\n",
       "      <td>6323</td>\n",
       "    </tr>\n",
       "    <tr>\n",
       "      <th>Canada</th>\n",
       "      <td>4877</td>\n",
       "    </tr>\n",
       "  </tbody>\n",
       "</table>\n",
       "</div>"
      ],
      "text/plain": [
       "                country\n",
       "United States     77654\n",
       "India             41569\n",
       "Japan             17259\n",
       "United Kingdom     6323\n",
       "Canada             4877"
      ]
     },
     "execution_count": 57,
     "metadata": {},
     "output_type": "execute_result"
    }
   ],
   "source": [
    "O  = pd.DataFrame(Master_Data['country'].value_counts().head(5))\n",
    "O"
   ]
  },
  {
   "cell_type": "code",
   "execution_count": 58,
   "id": "b2e2a9b1",
   "metadata": {},
   "outputs": [
    {
     "data": {
      "text/html": [
       "<div>\n",
       "<style scoped>\n",
       "    .dataframe tbody tr th:only-of-type {\n",
       "        vertical-align: middle;\n",
       "    }\n",
       "\n",
       "    .dataframe tbody tr th {\n",
       "        vertical-align: top;\n",
       "    }\n",
       "\n",
       "    .dataframe thead th {\n",
       "        text-align: right;\n",
       "    }\n",
       "</style>\n",
       "<table border=\"1\" class=\"dataframe\">\n",
       "  <thead>\n",
       "    <tr style=\"text-align: right;\">\n",
       "      <th></th>\n",
       "      <th>country</th>\n",
       "    </tr>\n",
       "  </thead>\n",
       "  <tbody>\n",
       "    <tr>\n",
       "      <th>United States</th>\n",
       "      <td>4586</td>\n",
       "    </tr>\n",
       "    <tr>\n",
       "      <th>United Kingdom</th>\n",
       "      <td>1054</td>\n",
       "    </tr>\n",
       "    <tr>\n",
       "      <th>Japan</th>\n",
       "      <td>1002</td>\n",
       "    </tr>\n",
       "    <tr>\n",
       "      <th>South Korea</th>\n",
       "      <td>964</td>\n",
       "    </tr>\n",
       "    <tr>\n",
       "      <th>Canada</th>\n",
       "      <td>544</td>\n",
       "    </tr>\n",
       "  </tbody>\n",
       "</table>\n",
       "</div>"
      ],
      "text/plain": [
       "                country\n",
       "United States      4586\n",
       "United Kingdom     1054\n",
       "Japan              1002\n",
       "South Korea         964\n",
       "Canada              544"
      ]
     },
     "execution_count": 58,
     "metadata": {},
     "output_type": "execute_result"
    }
   ],
   "source": [
    "O1 = Master_Data[Master_Data['type'] == 'TV Show']\n",
    "O2 = Master_Data[Master_Data['type'] == 'Movie']\n",
    "\n",
    "O1 = O1.drop_duplicates()\n",
    "O2 = O2.drop_duplicates()\n",
    "O1\n",
    "O4 = pd.DataFrame(O2['country'].value_counts().head(5))\n",
    "O3 = pd.DataFrame(O1['country'].value_counts().head(5))\n",
    "\n",
    "O4\n",
    "O3"
   ]
  },
  {
   "cell_type": "code",
   "execution_count": 59,
   "id": "4a2a6f17",
   "metadata": {},
   "outputs": [],
   "source": [
    "O3 = O3.reset_index()\n",
    "O4 = O4.reset_index()"
   ]
  },
  {
   "cell_type": "code",
   "execution_count": 60,
   "id": "50bbbde6",
   "metadata": {},
   "outputs": [],
   "source": [
    "O3 = O3.rename(columns={'index':'country','country':'TV Show'})\n",
    "O4 = O4.rename(columns={'index':'country','country':'Movie'})\n"
   ]
  },
  {
   "cell_type": "code",
   "execution_count": 61,
   "id": "c0112a77",
   "metadata": {},
   "outputs": [
    {
     "data": {
      "text/html": [
       "<div>\n",
       "<style scoped>\n",
       "    .dataframe tbody tr th:only-of-type {\n",
       "        vertical-align: middle;\n",
       "    }\n",
       "\n",
       "    .dataframe tbody tr th {\n",
       "        vertical-align: top;\n",
       "    }\n",
       "\n",
       "    .dataframe thead th {\n",
       "        text-align: right;\n",
       "    }\n",
       "</style>\n",
       "<table border=\"1\" class=\"dataframe\">\n",
       "  <thead>\n",
       "    <tr style=\"text-align: right;\">\n",
       "      <th></th>\n",
       "      <th>country</th>\n",
       "      <th>TV Show</th>\n",
       "    </tr>\n",
       "  </thead>\n",
       "  <tbody>\n",
       "    <tr>\n",
       "      <th>0</th>\n",
       "      <td>United States</td>\n",
       "      <td>4586</td>\n",
       "    </tr>\n",
       "    <tr>\n",
       "      <th>1</th>\n",
       "      <td>United Kingdom</td>\n",
       "      <td>1054</td>\n",
       "    </tr>\n",
       "    <tr>\n",
       "      <th>2</th>\n",
       "      <td>Japan</td>\n",
       "      <td>1002</td>\n",
       "    </tr>\n",
       "    <tr>\n",
       "      <th>3</th>\n",
       "      <td>South Korea</td>\n",
       "      <td>964</td>\n",
       "    </tr>\n",
       "    <tr>\n",
       "      <th>4</th>\n",
       "      <td>Canada</td>\n",
       "      <td>544</td>\n",
       "    </tr>\n",
       "  </tbody>\n",
       "</table>\n",
       "</div>"
      ],
      "text/plain": [
       "          country  TV Show\n",
       "0   United States     4586\n",
       "1  United Kingdom     1054\n",
       "2           Japan     1002\n",
       "3     South Korea      964\n",
       "4          Canada      544"
      ]
     },
     "execution_count": 61,
     "metadata": {},
     "output_type": "execute_result"
    }
   ],
   "source": [
    "O4\n",
    "O3"
   ]
  },
  {
   "cell_type": "code",
   "execution_count": 62,
   "id": "f173f6c5",
   "metadata": {},
   "outputs": [
    {
     "data": {
      "text/html": [
       "<div>\n",
       "<style scoped>\n",
       "    .dataframe tbody tr th:only-of-type {\n",
       "        vertical-align: middle;\n",
       "    }\n",
       "\n",
       "    .dataframe tbody tr th {\n",
       "        vertical-align: top;\n",
       "    }\n",
       "\n",
       "    .dataframe thead th {\n",
       "        text-align: right;\n",
       "    }\n",
       "</style>\n",
       "<table border=\"1\" class=\"dataframe\">\n",
       "  <thead>\n",
       "    <tr style=\"text-align: right;\">\n",
       "      <th></th>\n",
       "      <th>country</th>\n",
       "      <th>Movie</th>\n",
       "      <th>TV Show</th>\n",
       "    </tr>\n",
       "  </thead>\n",
       "  <tbody>\n",
       "    <tr>\n",
       "      <th>0</th>\n",
       "      <td>United States</td>\n",
       "      <td>9435</td>\n",
       "      <td>4586</td>\n",
       "    </tr>\n",
       "    <tr>\n",
       "      <th>1</th>\n",
       "      <td>United Kingdom</td>\n",
       "      <td>1013</td>\n",
       "      <td>1054</td>\n",
       "    </tr>\n",
       "    <tr>\n",
       "      <th>2</th>\n",
       "      <td>Canada</td>\n",
       "      <td>760</td>\n",
       "      <td>544</td>\n",
       "    </tr>\n",
       "  </tbody>\n",
       "</table>\n",
       "</div>"
      ],
      "text/plain": [
       "          country  Movie  TV Show\n",
       "0   United States   9435     4586\n",
       "1  United Kingdom   1013     1054\n",
       "2          Canada    760      544"
      ]
     },
     "execution_count": 62,
     "metadata": {},
     "output_type": "execute_result"
    }
   ],
   "source": [
    "O5 = O4.merge(O3,on='country')\n",
    "O5"
   ]
  },
  {
   "cell_type": "code",
   "execution_count": 63,
   "id": "ade37d50",
   "metadata": {},
   "outputs": [],
   "source": [
    "# O5.plot"
   ]
  },
  {
   "cell_type": "code",
   "execution_count": 64,
   "id": "e8092566",
   "metadata": {},
   "outputs": [],
   "source": [
    "# O5.set_index('country').plot(kind='bar',figsize=(7,4))\n"
   ]
  },
  {
   "cell_type": "code",
   "execution_count": 65,
   "id": "5198b52f",
   "metadata": {},
   "outputs": [],
   "source": [
    "# merged_df.set_index('country').plot(kind='bar',figsize=(7,4))\n",
    "# plt.title(\"Top 4 countries with most Movies/TV Shows\")\n",
    "# plt.show()\n",
    "# a=a"
   ]
  },
  {
   "cell_type": "markdown",
   "id": "f0e3c657",
   "metadata": {},
   "source": [
    "# EXTRA END"
   ]
  },
  {
   "cell_type": "code",
   "execution_count": 66,
   "id": "abbcd12b",
   "metadata": {},
   "outputs": [],
   "source": [
    "# Insight 3.6\n",
    "\n",
    "\n",
    "Master_Data_mov = Master_Data.loc[Master_Data['type'] == 'Movie']\n",
    "Master_Data_mov = pd.DataFrame(Master_Data_mov.groupby('country')['cast'].nunique().sort_values(ascending=False).head(4))\n",
    "Master_Data_mov = Master_Data_mov.reset_index()\n",
    "Master_Data_mov \n",
    "\n",
    "\n",
    "\n",
    "\n",
    "\n",
    "\n",
    "M_MD = Master_Data[Master_Data['type'] == 'Movie']\n",
    "\n",
    "M_MD1 = M_MD[M_MD['country'] == 'United States']\n",
    "USA_cast = pd.DataFrame(M_MD1['cast'].value_counts().head(3))\n",
    "USA_cast = USA_cast.reset_index()\n",
    "USA_cast = USA_cast.rename(columns={'index':'USA Actors','cast':'Movies'})\n",
    "\n",
    "M_MD2 = M_MD[M_MD['country'] == 'India']\n",
    "India_cast = pd.DataFrame(M_MD2['cast'].value_counts().head(3))\n",
    "India_cast = India_cast.reset_index()\n",
    "India_cast = India_cast.rename(columns={'index':'India Actors','cast':'Movies'})\n",
    "\n",
    "M_MD3 = M_MD[M_MD['country'] == 'United Kingdom']\n",
    "UK_cast = pd.DataFrame(M_MD3['cast'].value_counts().head(3))\n",
    "UK_cast = UK_cast.reset_index()\n",
    "UK_cast = UK_cast.rename(columns={'index':'UK Actors','cast':'Movies'})\n",
    "\n",
    "M_MD4 = M_MD[M_MD['country'] == 'Canada']\n",
    "Canada_cast = pd.DataFrame(M_MD4['cast'].value_counts().head(3))\n",
    "Canada_cast = Canada_cast.reset_index()\n",
    "Canada_cast = Canada_cast.rename(columns={'index':'Canada Actors','cast':'Movies'})\n",
    "\n",
    "\n"
   ]
  },
  {
   "cell_type": "code",
   "execution_count": 67,
   "id": "38c4bdfa",
   "metadata": {},
   "outputs": [],
   "source": [
    "Master_Data_movie = Master_Data_mov.rename(columns={'cast':'Movie Cast'})"
   ]
  },
  {
   "cell_type": "code",
   "execution_count": 68,
   "id": "81c88ead",
   "metadata": {},
   "outputs": [
    {
     "data": {
      "text/html": [
       "<div>\n",
       "<style scoped>\n",
       "    .dataframe tbody tr th:only-of-type {\n",
       "        vertical-align: middle;\n",
       "    }\n",
       "\n",
       "    .dataframe tbody tr th {\n",
       "        vertical-align: top;\n",
       "    }\n",
       "\n",
       "    .dataframe thead th {\n",
       "        text-align: right;\n",
       "    }\n",
       "</style>\n",
       "<table border=\"1\" class=\"dataframe\">\n",
       "  <thead>\n",
       "    <tr style=\"text-align: right;\">\n",
       "      <th></th>\n",
       "      <th>Canada Actors</th>\n",
       "      <th>Movies</th>\n",
       "    </tr>\n",
       "  </thead>\n",
       "  <tbody>\n",
       "    <tr>\n",
       "      <th>0</th>\n",
       "      <td>Robb Wells</td>\n",
       "      <td>154</td>\n",
       "    </tr>\n",
       "    <tr>\n",
       "      <th>1</th>\n",
       "      <td>John Paul Tremblay</td>\n",
       "      <td>140</td>\n",
       "    </tr>\n",
       "    <tr>\n",
       "      <th>2</th>\n",
       "      <td>John Dunsworth</td>\n",
       "      <td>90</td>\n",
       "    </tr>\n",
       "  </tbody>\n",
       "</table>\n",
       "</div>"
      ],
      "text/plain": [
       "        Canada Actors  Movies\n",
       "0          Robb Wells     154\n",
       "1  John Paul Tremblay     140\n",
       "2      John Dunsworth      90"
      ]
     },
     "execution_count": 68,
     "metadata": {},
     "output_type": "execute_result"
    }
   ],
   "source": [
    "USA_cast\n",
    "India_cast\n",
    "UK_cast\n",
    "Canada_cast\n"
   ]
  },
  {
   "cell_type": "code",
   "execution_count": 69,
   "id": "8ed8059f",
   "metadata": {},
   "outputs": [
    {
     "data": {
      "text/html": [
       "<div>\n",
       "<style scoped>\n",
       "    .dataframe tbody tr th:only-of-type {\n",
       "        vertical-align: middle;\n",
       "    }\n",
       "\n",
       "    .dataframe tbody tr th {\n",
       "        vertical-align: top;\n",
       "    }\n",
       "\n",
       "    .dataframe thead th {\n",
       "        text-align: right;\n",
       "    }\n",
       "</style>\n",
       "<table border=\"1\" class=\"dataframe\">\n",
       "  <thead>\n",
       "    <tr style=\"text-align: right;\">\n",
       "      <th></th>\n",
       "      <th>country</th>\n",
       "      <th>Movie Cast</th>\n",
       "    </tr>\n",
       "  </thead>\n",
       "  <tbody>\n",
       "    <tr>\n",
       "      <th>0</th>\n",
       "      <td>United States</td>\n",
       "      <td>9435</td>\n",
       "    </tr>\n",
       "    <tr>\n",
       "      <th>1</th>\n",
       "      <td>India</td>\n",
       "      <td>3393</td>\n",
       "    </tr>\n",
       "    <tr>\n",
       "      <th>2</th>\n",
       "      <td>United Kingdom</td>\n",
       "      <td>1013</td>\n",
       "    </tr>\n",
       "    <tr>\n",
       "      <th>3</th>\n",
       "      <td>Canada</td>\n",
       "      <td>760</td>\n",
       "    </tr>\n",
       "  </tbody>\n",
       "</table>\n",
       "</div>"
      ],
      "text/plain": [
       "          country  Movie Cast\n",
       "0   United States        9435\n",
       "1           India        3393\n",
       "2  United Kingdom        1013\n",
       "3          Canada         760"
      ]
     },
     "execution_count": 69,
     "metadata": {},
     "output_type": "execute_result"
    }
   ],
   "source": [
    "Master_Data_movie"
   ]
  },
  {
   "cell_type": "code",
   "execution_count": 70,
   "id": "5550b366",
   "metadata": {},
   "outputs": [],
   "source": [
    "# Insight 3.7\n",
    "\n",
    "\n",
    "Master_Data_tv = Master_Data.loc[Master_Data['type'] == 'TV Show']\n",
    "Master_Data_tv = pd.DataFrame(Master_Data_tv.groupby('country')['cast'].nunique().sort_values(ascending=False).head(4))\n",
    "Master_Data_tv = Master_Data_tv.reset_index()\n",
    "Master_Data_tv\n",
    "\n",
    "\n",
    "\n",
    "\n",
    "\n",
    "\n",
    "\n",
    "\n",
    "T_MD = Master_Data[Master_Data['type'] == 'TV Show']\n",
    "\n",
    "T_MD1 = T_MD[T_MD['country'] == 'United States']\n",
    "USA_cast_t = pd.DataFrame(T_MD1['cast'].value_counts().head(3))\n",
    "USA_cast_t = USA_cast_t.reset_index()\n",
    "USA_cast_t = USA_cast_t.rename(columns={'index':'USA Actors','cast':'Tv Shows'})\n",
    "\n",
    "\n",
    "\n",
    "T_MD2 = T_MD[T_MD['country'] == 'United Kingdom']\n",
    "UK_cast_t = pd.DataFrame(T_MD2['cast'].value_counts().head(3))\n",
    "UK_cast_t = UK_cast_t.reset_index()\n",
    "UK_cast_t = UK_cast_t.rename(columns={'index':'UK Actors','cast':'Tv Shows'})\n",
    "\n",
    "\n",
    "\n",
    "T_MD3 = T_MD[T_MD['country'] == 'Japan']\n",
    "Japan_cast_t = pd.DataFrame(T_MD3['cast'].value_counts().head(3))\n",
    "Japan_cast_t = Japan_cast_t.reset_index()\n",
    "Japan_cast_t = Japan_cast_t.rename(columns={'index':'Japan Actors','cast':'Tv Shows'})\n",
    "\n",
    "\n",
    "\n",
    "T_MD4 = T_MD[T_MD['country'] == 'South Korea']\n",
    "SK_cast_t = pd.DataFrame(T_MD4['cast'].value_counts().head(3))\n",
    "SK_cast_t = SK_cast_t.reset_index()\n",
    "SK_cast_t = SK_cast_t.rename(columns={'index':'S Korea Actors','cast':'Tv Shows'})\n",
    "\n",
    "\n"
   ]
  },
  {
   "cell_type": "code",
   "execution_count": 71,
   "id": "8f12d0f5",
   "metadata": {},
   "outputs": [],
   "source": [
    "Master_Data_tvs = Master_Data_tv.rename(columns={'cast':'TV Show Cast'})\n"
   ]
  },
  {
   "cell_type": "code",
   "execution_count": 72,
   "id": "685c010f",
   "metadata": {},
   "outputs": [
    {
     "data": {
      "text/html": [
       "<div>\n",
       "<style scoped>\n",
       "    .dataframe tbody tr th:only-of-type {\n",
       "        vertical-align: middle;\n",
       "    }\n",
       "\n",
       "    .dataframe tbody tr th {\n",
       "        vertical-align: top;\n",
       "    }\n",
       "\n",
       "    .dataframe thead th {\n",
       "        text-align: right;\n",
       "    }\n",
       "</style>\n",
       "<table border=\"1\" class=\"dataframe\">\n",
       "  <thead>\n",
       "    <tr style=\"text-align: right;\">\n",
       "      <th></th>\n",
       "      <th>country</th>\n",
       "      <th>TV Show Cast</th>\n",
       "    </tr>\n",
       "  </thead>\n",
       "  <tbody>\n",
       "    <tr>\n",
       "      <th>0</th>\n",
       "      <td>United States</td>\n",
       "      <td>4586</td>\n",
       "    </tr>\n",
       "    <tr>\n",
       "      <th>1</th>\n",
       "      <td>United Kingdom</td>\n",
       "      <td>1054</td>\n",
       "    </tr>\n",
       "    <tr>\n",
       "      <th>2</th>\n",
       "      <td>Japan</td>\n",
       "      <td>1002</td>\n",
       "    </tr>\n",
       "    <tr>\n",
       "      <th>3</th>\n",
       "      <td>South Korea</td>\n",
       "      <td>964</td>\n",
       "    </tr>\n",
       "  </tbody>\n",
       "</table>\n",
       "</div>"
      ],
      "text/plain": [
       "          country  TV Show Cast\n",
       "0   United States          4586\n",
       "1  United Kingdom          1054\n",
       "2           Japan          1002\n",
       "3     South Korea           964"
      ]
     },
     "execution_count": 72,
     "metadata": {},
     "output_type": "execute_result"
    }
   ],
   "source": [
    "Master_Data_tvs"
   ]
  },
  {
   "cell_type": "code",
   "execution_count": 73,
   "id": "5ea0bde6",
   "metadata": {},
   "outputs": [
    {
     "data": {
      "text/html": [
       "<div>\n",
       "<style scoped>\n",
       "    .dataframe tbody tr th:only-of-type {\n",
       "        vertical-align: middle;\n",
       "    }\n",
       "\n",
       "    .dataframe tbody tr th {\n",
       "        vertical-align: top;\n",
       "    }\n",
       "\n",
       "    .dataframe thead th {\n",
       "        text-align: right;\n",
       "    }\n",
       "</style>\n",
       "<table border=\"1\" class=\"dataframe\">\n",
       "  <thead>\n",
       "    <tr style=\"text-align: right;\">\n",
       "      <th></th>\n",
       "      <th>S Korea Actors</th>\n",
       "      <th>Tv Shows</th>\n",
       "    </tr>\n",
       "  </thead>\n",
       "  <tbody>\n",
       "    <tr>\n",
       "      <th>0</th>\n",
       "      <td>Sung Dong-il</td>\n",
       "      <td>30</td>\n",
       "    </tr>\n",
       "    <tr>\n",
       "      <th>1</th>\n",
       "      <td>Cho Seong-ha</td>\n",
       "      <td>25</td>\n",
       "    </tr>\n",
       "    <tr>\n",
       "      <th>2</th>\n",
       "      <td>Kim Won-hae</td>\n",
       "      <td>25</td>\n",
       "    </tr>\n",
       "  </tbody>\n",
       "</table>\n",
       "</div>"
      ],
      "text/plain": [
       "  S Korea Actors  Tv Shows\n",
       "0   Sung Dong-il        30\n",
       "1   Cho Seong-ha        25\n",
       "2    Kim Won-hae        25"
      ]
     },
     "execution_count": 73,
     "metadata": {},
     "output_type": "execute_result"
    }
   ],
   "source": [
    "USA_cast_t\n",
    "UK_cast_t\n",
    "Japan_cast_t\n",
    "SK_cast_t"
   ]
  },
  {
   "cell_type": "markdown",
   "id": "fbf31bb5",
   "metadata": {},
   "source": [
    "# Observations for part 3."
   ]
  },
  {
   "cell_type": "markdown",
   "id": "2809e808",
   "metadata": {},
   "source": [
    "Insight 3.1 : We have 74 years of data.\n",
    "\n",
    "Insight 3.2 : TV Shows are nearly 1/3rd of Movies created in 74 years.\n",
    "\n",
    "Insight 3.3 : Country wise movies/tv shows counts, which concludes United States has max movies.\n",
    "\n",
    "Extra : Top 4 countries are extracted here specifically on the basis of movie counts and tv shows counts seperated.\n",
    "\n",
    "Insight 3.4 : Types of movies/tv shows that are created country wise.\n",
    "\n",
    "Insight 3.5 : Year wise movie count, which concludes most of the movies were created on 2018.\n",
    "\n",
    "\n",
    "\n"
   ]
  },
  {
   "cell_type": "markdown",
   "id": "84de24b6",
   "metadata": {},
   "source": [
    "# 4. Visual Analysis - Univariate, Bivariate after pre-processing of the data"
   ]
  },
  {
   "cell_type": "code",
   "execution_count": 74,
   "id": "d360c995",
   "metadata": {},
   "outputs": [],
   "source": [
    "d_m = d_m.rename(columns={'listed_in':'Frequencies'})\n",
    "TVs = TVs.rename(columns={'listed_in':'Frequencies'})"
   ]
  },
  {
   "cell_type": "code",
   "execution_count": 75,
   "id": "551616cb",
   "metadata": {},
   "outputs": [
    {
     "data": {
      "image/png": "[encoded data removed]",
      "text/plain": [
       "<Figure size 792x360 with 1 Axes>"
      ]
     },
     "metadata": {
      "needs_background": "light"
     },
     "output_type": "display_data"
    }
   ],
   "source": [
    "# Insight 4.1\n",
    "\n",
    "plt.figure(figsize=(11,5))\n",
    "plt.xlim([1935,2025])\n",
    "sns.lineplot(x = d_m['release_year'], y =d_m['Frequencies'],legend=False,label ='Movies')\n",
    "sns.lineplot(x = TVs['release_year'], y =TVs['Frequencies'],legend=False, label='TV Shows')\n",
    "plt.xlim([1935,2025])\n",
    "plt.title('Frequencies of Movies and TV Shows over the years')\n",
    "plt.legend()\n",
    "plt.show()"
   ]
  },
  {
   "cell_type": "code",
   "execution_count": 76,
   "id": "9b434cfa",
   "metadata": {},
   "outputs": [
    {
     "data": {
      "image/png": "[encoded data removed]",
      "text/plain": [
       "<Figure size 504x216 with 1 Axes>"
      ]
     },
     "metadata": {
      "needs_background": "light"
     },
     "output_type": "display_data"
    }
   ],
   "source": [
    "# Insight 4.2\n",
    "\n",
    "plt.figure(figsize=(7,3))\n",
    "sns.barplot(x='no_of_movies',y='cast',data=Movies_cast)\n",
    "plt.title('Top 5 Movie Actors')\n",
    "plt.show()"
   ]
  },
  {
   "cell_type": "code",
   "execution_count": 77,
   "id": "80be1d20",
   "metadata": {},
   "outputs": [
    {
     "data": {
      "image/png": "[encoded data removed]",
      "text/plain": [
       "<Figure size 504x216 with 1 Axes>"
      ]
     },
     "metadata": {
      "needs_background": "light"
     },
     "output_type": "display_data"
    }
   ],
   "source": [
    "# Insight 4.3\n",
    "\n",
    "plt.figure(figsize=(7,3))\n",
    "sns.barplot(x='no_of_shows',y='cast',data=TvShow_cast)\n",
    "plt.title('Top 5 TV Shows Actors')\n",
    "plt.show()\n"
   ]
  },
  {
   "cell_type": "code",
   "execution_count": 78,
   "id": "c99c8fcc",
   "metadata": {},
   "outputs": [
    {
     "data": {
      "image/png": "[encoded data removed]",
      "text/plain": [
       "<Figure size 504x288 with 1 Axes>"
      ]
     },
     "metadata": {
      "needs_background": "light"
     },
     "output_type": "display_data"
    }
   ],
   "source": [
    "# Insight 4.4\n",
    "\n",
    "O5.set_index('country').plot(kind='bar',figsize=(7,4))\n",
    "plt.title(\"Top 3 countries with most Movies/TV Shows\")\n",
    "plt.show()"
   ]
  },
  {
   "cell_type": "code",
   "execution_count": 79,
   "id": "e520cba6",
   "metadata": {},
   "outputs": [
    {
     "data": {
      "image/png": "[encoded data removed]",
      "text/plain": [
       "<Figure size 432x288 with 1 Axes>"
      ]
     },
     "metadata": {
      "needs_background": "light"
     },
     "output_type": "display_data"
    }
   ],
   "source": [
    "# Insight 4.5\n",
    "\n",
    "sns.barplot(data=Master_Data_movie,y='Movie Cast',x='country')\n",
    "plt.title(\"Top countries with most movies\")\n",
    "plt.show()\n"
   ]
  },
  {
   "cell_type": "code",
   "execution_count": 80,
   "id": "811b52a0",
   "metadata": {},
   "outputs": [
    {
     "data": {
      "image/png": "[encoded data removed]",
      "text/plain": [
       "<Figure size 432x288 with 4 Axes>"
      ]
     },
     "metadata": {
      "needs_background": "light"
     },
     "output_type": "display_data"
    }
   ],
   "source": [
    "# Insight 4.6\n",
    "\n",
    "plt.subplot(1,4,1)\n",
    "sns.barplot(data=USA_cast,x='USA Actors',y='Movies')\n",
    "plt.xticks(rotation=45)\n",
    "plt.title('Top USA Movie Actors')\n",
    "\n",
    "\n",
    "\n",
    "plt.subplot(1,4,2)\n",
    "sns.barplot(data=India_cast,x='India Actors',y='Movies')\n",
    "plt.xticks(rotation=45)\n",
    "plt.title('Top Indian Movie Actors')\n",
    "\n",
    "plt.subplot(1,4,3)\n",
    "sns.barplot(data=UK_cast,x='UK Actors',y='Movies')\n",
    "plt.xticks(rotation=45)\n",
    "plt.title('Top UK Movie Actors')\n",
    "\n",
    "\n",
    "plt.subplot(1,4,4)\n",
    "sns.barplot(data=Canada_cast,x='Canada Actors',y='Movies')\n",
    "plt.xticks(rotation=45)\n",
    "plt.title('Top Canadian Movie Actors')\n",
    "\n",
    "\n",
    "plt.subplots_adjust(left=1,bottom=.1,right=3,top=1, wspace=0.4, hspace=0.4)\n",
    "plt.show()\n"
   ]
  },
  {
   "cell_type": "code",
   "execution_count": 81,
   "id": "fe735182",
   "metadata": {},
   "outputs": [
    {
     "data": {
      "image/png": "[encoded data removed]",
      "text/plain": [
       "<Figure size 432x288 with 1 Axes>"
      ]
     },
     "metadata": {
      "needs_background": "light"
     },
     "output_type": "display_data"
    }
   ],
   "source": [
    "# Insight 4.7\n",
    "\n",
    "sns.barplot(data=Master_Data_tvs,y='TV Show Cast',x='country')\n",
    "plt.title(\"Top countries with most TV Shows\")\n",
    "plt.show()"
   ]
  },
  {
   "cell_type": "code",
   "execution_count": 82,
   "id": "27208145",
   "metadata": {},
   "outputs": [
    {
     "data": {
      "image/png": "[encoded data removed]",
      "text/plain": [
       "<Figure size 432x288 with 4 Axes>"
      ]
     },
     "metadata": {
      "needs_background": "light"
     },
     "output_type": "display_data"
    }
   ],
   "source": [
    "# Insight 4.8\n",
    "\n",
    "plt.subplot(1,4,1)\n",
    "sns.barplot(data=USA_cast_t,x='USA Actors',y='Tv Shows')\n",
    "plt.xticks(rotation=45)\n",
    "plt.title('Top USA TV Show Actors')\n",
    "\n",
    "\n",
    "\n",
    "plt.subplot(1,4,2)\n",
    "sns.barplot(data=UK_cast_t,x='UK Actors',y='Tv Shows')\n",
    "plt.xticks(rotation=45)\n",
    "plt.title('Top UK TV Show Actors')\n",
    "\n",
    "plt.subplot(1,4,3)\n",
    "sns.barplot(data=Japan_cast_t,x='Japan Actors',y='Tv Shows')\n",
    "plt.xticks(rotation=45)\n",
    "plt.title('Top Japanese TV Show Actors')\n",
    "\n",
    "\n",
    "plt.subplot(1,4,4)\n",
    "sns.barplot(data=SK_cast_t,x='S Korea Actors',y='Tv Shows')\n",
    "plt.xticks(rotation=45)\n",
    "plt.title('Top S Korean TV SHow Actors')\n",
    "\n",
    "\n",
    "plt.subplots_adjust(left=1,bottom=.1,right=3,top=1, wspace=0.4, hspace=0.4)\n",
    "plt.show()\n"
   ]
  },
  {
   "cell_type": "code",
   "execution_count": 83,
   "id": "e904cbc0",
   "metadata": {},
   "outputs": [
    {
     "data": {
      "text/html": [
       "<div>\n",
       "<style scoped>\n",
       "    .dataframe tbody tr th:only-of-type {\n",
       "        vertical-align: middle;\n",
       "    }\n",
       "\n",
       "    .dataframe tbody tr th {\n",
       "        vertical-align: top;\n",
       "    }\n",
       "\n",
       "    .dataframe thead th {\n",
       "        text-align: right;\n",
       "    }\n",
       "</style>\n",
       "<table border=\"1\" class=\"dataframe\">\n",
       "  <thead>\n",
       "    <tr style=\"text-align: right;\">\n",
       "      <th></th>\n",
       "      <th>country</th>\n",
       "      <th>Movie Cast</th>\n",
       "    </tr>\n",
       "  </thead>\n",
       "  <tbody>\n",
       "    <tr>\n",
       "      <th>0</th>\n",
       "      <td>United States</td>\n",
       "      <td>9435</td>\n",
       "    </tr>\n",
       "    <tr>\n",
       "      <th>1</th>\n",
       "      <td>India</td>\n",
       "      <td>3393</td>\n",
       "    </tr>\n",
       "    <tr>\n",
       "      <th>2</th>\n",
       "      <td>United Kingdom</td>\n",
       "      <td>1013</td>\n",
       "    </tr>\n",
       "    <tr>\n",
       "      <th>3</th>\n",
       "      <td>Canada</td>\n",
       "      <td>760</td>\n",
       "    </tr>\n",
       "  </tbody>\n",
       "</table>\n",
       "</div>"
      ],
      "text/plain": [
       "          country  Movie Cast\n",
       "0   United States        9435\n",
       "1           India        3393\n",
       "2  United Kingdom        1013\n",
       "3          Canada         760"
      ]
     },
     "execution_count": 83,
     "metadata": {},
     "output_type": "execute_result"
    }
   ],
   "source": [
    "Master_Data_movie"
   ]
  },
  {
   "cell_type": "code",
   "execution_count": null,
   "id": "5e026dc7",
   "metadata": {},
   "outputs": [],
   "source": []
  },
  {
   "cell_type": "code",
   "execution_count": 84,
   "id": "8fe74ceb",
   "metadata": {},
   "outputs": [
    {
     "data": {
      "image/png": "[encoded data removed]",
      "text/plain": [
       "<Figure size 792x360 with 2 Axes>"
      ]
     },
     "metadata": {
      "needs_background": "light"
     },
     "output_type": "display_data"
    }
   ],
   "source": [
    "# Insight 4.5\n",
    "\n",
    "plt.figure(figsize=(11,5))\n",
    "sns.heatmap(df.isnull(),yticklabels=False)\n",
    "plt.title('MISSING VALUES CHECK')\n",
    "plt.show()"
   ]
  },
  {
   "cell_type": "markdown",
   "id": "b5b77de6",
   "metadata": {},
   "source": [
    "# Observations for part 4."
   ]
  },
  {
   "cell_type": "markdown",
   "id": "0f8c0930",
   "metadata": {},
   "source": [
    "Insight 4.1 : The plot represents how rapidly tv shows and movies count increased over years.\n",
    "\n",
    "Insight 4.2 : The plot represents best actor on the basis of number of movies they are casted.\n",
    "\n",
    "Insight 4.3 : The plot represents best actor on the basis of number of tv shows they are casted.\n",
    "\n",
    "Insight 4.4 : Top 4 countries which have maximum number of movies and tv shows.\n",
    "\n",
    "Insight 4.5 : The plot represents all the correlation between null values, in simple words columnwise every null values present.\n",
    "\n",
    "\n",
    "\n",
    "\n",
    "\n",
    "\n",
    "\n"
   ]
  },
  {
   "cell_type": "markdown",
   "id": "25fe97fd",
   "metadata": {},
   "source": [
    "# 5. Missing Value & Outlier check (Treatment optional) (10 Points)"
   ]
  },
  {
   "cell_type": "code",
   "execution_count": 85,
   "id": "f8cd3ef9",
   "metadata": {},
   "outputs": [
    {
     "data": {
      "text/plain": [
       "show_id          0.000000\n",
       "type             0.000000\n",
       "title            0.000000\n",
       "director        29.908028\n",
       "cast             9.367549\n",
       "country          9.435676\n",
       "date_added       0.113546\n",
       "release_year     0.000000\n",
       "rating           0.045418\n",
       "duration         0.034064\n",
       "listed_in        0.000000\n",
       "description      0.000000\n",
       "dtype: float64"
      ]
     },
     "execution_count": 85,
     "metadata": {},
     "output_type": "execute_result"
    }
   ],
   "source": [
    "# Insight 5.1.1\n",
    "\n",
    "Percentage_of_nan = df.isnull().mean()*100\n",
    "Percentage_of_nan"
   ]
  },
  {
   "cell_type": "code",
   "execution_count": 86,
   "id": "8d8997b2",
   "metadata": {},
   "outputs": [
    {
     "data": {
      "text/plain": [
       "show_id         0.0\n",
       "type            0.0\n",
       "title           0.0\n",
       "director        0.0\n",
       "cast            0.0\n",
       "country         0.0\n",
       "date_added      0.0\n",
       "release_year    0.0\n",
       "rating          0.0\n",
       "duration        0.0\n",
       "listed_in       0.0\n",
       "description     0.0\n",
       "dtype: float64"
      ]
     },
     "execution_count": 86,
     "metadata": {},
     "output_type": "execute_result"
    }
   ],
   "source": [
    "# Insight 5.1.2\n",
    "\n",
    "df_mod = df\n",
    "df_mod = df_mod.fillna('Missing')\n",
    "df_mod.isnull().mean()*100\n"
   ]
  },
  {
   "cell_type": "code",
   "execution_count": 87,
   "id": "5f207b5a",
   "metadata": {},
   "outputs": [
    {
     "data": {
      "text/html": [
       "<div>\n",
       "<style scoped>\n",
       "    .dataframe tbody tr th:only-of-type {\n",
       "        vertical-align: middle;\n",
       "    }\n",
       "\n",
       "    .dataframe tbody tr th {\n",
       "        vertical-align: top;\n",
       "    }\n",
       "\n",
       "    .dataframe thead th {\n",
       "        text-align: right;\n",
       "    }\n",
       "</style>\n",
       "<table border=\"1\" class=\"dataframe\">\n",
       "  <thead>\n",
       "    <tr style=\"text-align: right;\">\n",
       "      <th></th>\n",
       "      <th>release_year</th>\n",
       "    </tr>\n",
       "  </thead>\n",
       "  <tbody>\n",
       "    <tr>\n",
       "      <th>count</th>\n",
       "      <td>8807.000000</td>\n",
       "    </tr>\n",
       "    <tr>\n",
       "      <th>mean</th>\n",
       "      <td>2014.180198</td>\n",
       "    </tr>\n",
       "    <tr>\n",
       "      <th>std</th>\n",
       "      <td>8.819312</td>\n",
       "    </tr>\n",
       "    <tr>\n",
       "      <th>min</th>\n",
       "      <td>1925.000000</td>\n",
       "    </tr>\n",
       "    <tr>\n",
       "      <th>25%</th>\n",
       "      <td>2013.000000</td>\n",
       "    </tr>\n",
       "    <tr>\n",
       "      <th>50%</th>\n",
       "      <td>2017.000000</td>\n",
       "    </tr>\n",
       "    <tr>\n",
       "      <th>75%</th>\n",
       "      <td>2019.000000</td>\n",
       "    </tr>\n",
       "    <tr>\n",
       "      <th>max</th>\n",
       "      <td>2021.000000</td>\n",
       "    </tr>\n",
       "  </tbody>\n",
       "</table>\n",
       "</div>"
      ],
      "text/plain": [
       "       release_year\n",
       "count   8807.000000\n",
       "mean    2014.180198\n",
       "std        8.819312\n",
       "min     1925.000000\n",
       "25%     2013.000000\n",
       "50%     2017.000000\n",
       "75%     2019.000000\n",
       "max     2021.000000"
      ]
     },
     "execution_count": 87,
     "metadata": {},
     "output_type": "execute_result"
    }
   ],
   "source": [
    "# Insight 5.2.1\n",
    "\n",
    "df.describe()"
   ]
  },
  {
   "cell_type": "code",
   "execution_count": 88,
   "id": "f29f8ce1",
   "metadata": {},
   "outputs": [
    {
     "name": "stdout",
     "output_type": "stream",
     "text": [
      "The average movies/shows per year is 119\n"
     ]
    }
   ],
   "source": [
    "# Insight 5.2.2\n",
    "\n",
    "Total_years = len(Total_Years)\n",
    "Total_movies = df['type'].count()\n",
    "Avg_mov_shows = Total_movies//Total_years\n",
    "print('The average movies/shows per year is',Avg_mov_shows)"
   ]
  },
  {
   "cell_type": "code",
   "execution_count": 89,
   "id": "ee4fa538",
   "metadata": {},
   "outputs": [
    {
     "data": {
      "text/plain": [
       "2018    1147\n",
       "2017    1032\n",
       "2019    1030\n",
       "2020     953\n",
       "2016     902\n",
       "2021     592\n",
       "2015     560\n",
       "2014     352\n",
       "2013     288\n",
       "Name: release_year, dtype: int64"
      ]
     },
     "execution_count": 89,
     "metadata": {},
     "output_type": "execute_result"
    }
   ],
   "source": [
    "# Insight 5.2.3\n",
    "\n",
    "Outliers = df['release_year'].value_counts().sort_values(ascending=False).head(9)\n",
    "Outliers"
   ]
  },
  {
   "cell_type": "markdown",
   "id": "36a1846a",
   "metadata": {},
   "source": [
    "# Observations for part 5."
   ]
  },
  {
   "cell_type": "markdown",
   "id": "f04162b9",
   "metadata": {},
   "source": [
    "Insight 5.1.1 : 'Percentage_of_nan' represents the total percentage of missing values per columns.\n",
    "\n",
    "Insight 5.1.2 : As 29% of the directors data is missing, instead of deletion, those values are cagorised as missing.\n",
    "\n",
    "Insight 5.2.1 : From this statistical summary we can see that upto 2013 only 25% of movies are created rest 75% are created between 2013 - 2021 .\n",
    "\n",
    "Insight 5.2.2 : Average movie/shows per year is calculated in Insight 5.2.2.\n",
    "\n",
    "Insight 5.2.3 : If the average movies/shows per year is 119, we can clearly see top outliers ie 2013-2020.\n",
    "\n",
    "\n",
    "\n",
    "\n"
   ]
  },
  {
   "cell_type": "markdown",
   "id": "91af9e96",
   "metadata": {},
   "source": [
    "# 6. Insights based on Non-Graphical and Visual Analysis (10 Points)."
   ]
  },
  {
   "cell_type": "markdown",
   "id": "8e738fa2",
   "metadata": {},
   "source": [
    "6.1 Comments on the range of attributes."
   ]
  },
  {
   "cell_type": "markdown",
   "id": "cd69458b",
   "metadata": {},
   "source": [
    "\n",
    "Insight 6.1 : From the range of attributes 3 columns have missing values, where directors column has the most which is 29% and rest cast and country has second most missing values of approx 9%.\n",
    "( Reference : 5.1.1 )\n"
   ]
  },
  {
   "cell_type": "markdown",
   "id": "48b6bce0",
   "metadata": {},
   "source": [
    "6.2 Comments on the distribution of the variables and relationship between them."
   ]
  },
  {
   "cell_type": "markdown",
   "id": "00b01346",
   "metadata": {},
   "source": [
    "\n",
    "Insight 6.2 : The correlation of NaN values are represented by heatmap, the zero correlations are coloured dark and represent present values, where as positive correlations are colored light and represens the missing values. \n",
    "( Reference : Insight 4.5 )\n"
   ]
  },
  {
   "cell_type": "markdown",
   "id": "8b5b4862",
   "metadata": {},
   "source": [
    "6.3 Comments for each univariate and bivariate plot."
   ]
  },
  {
   "cell_type": "markdown",
   "id": "04a80b9a",
   "metadata": {},
   "source": [
    "\n",
    " Insight 6.3.1 : Two Univariate plots of top actors for movies and tv shows were plotted. Top actors were choosen on the basis of the   most casted in movies and tv shows.\n",
    " ( Reference : Insight 4.2, Insight 4.3 )\n",
    "\n",
    "\n",
    "\n",
    "\n",
    " \n",
    " Insight 6.3.2 : A Bivarriate plot is plotted to compare  both tv shows and movies with each other.\n",
    " ( Reference : Insight 4.1 )\n"
   ]
  },
  {
   "cell_type": "markdown",
   "id": "f6376ff6",
   "metadata": {},
   "source": [
    "# 7. Business Insights (10 Points) - Should include patterns observed in the data along with what you can infer from it"
   ]
  },
  {
   "cell_type": "markdown",
   "id": "3a233896",
   "metadata": {},
   "source": [
    "Patterns:\n",
    "\n",
    " \n",
    "Insight 7.1 : USA and UK are appearing both in top movies and tv shows list.\n",
    "( Reference : Insight 4.5, Insight 4.7 )\n",
    "\n",
    "\n",
    "\n",
    "Insight 7.2 : When it comes to movies Indian Actors are most casted.\n",
    "( Reference : Insight 4.6 )\n",
    "\n",
    "\n",
    "\n",
    " \n",
    "Insight 7.3 : When it comes to tv shows Japanese Actors are most casted.\n",
    "( Reference : Insight 4.8 )\n",
    "\n",
    "\n",
    "\n",
    " \n",
    "Insight 7.4 : Exponential growth of movies and tv shows has been seen after year 2010. \n",
    " ( Reference : Insight 4.1 )\n",
    " \n",
    " \n",
    " \n",
    " Insight 7.5 : USA Tops the list in most movies and tv shows both. \n",
    " ( Reference : Insight 4.4 )"
   ]
  },
  {
   "cell_type": "markdown",
   "id": "7a85c036",
   "metadata": {},
   "source": [
    "# 8. Recommendations (10 Points) - Actionable items for business. No technical jargon. No complications. Simple action items that everyone can understand"
   ]
  },
  {
   "cell_type": "markdown",
   "id": "e38d009e",
   "metadata": {},
   "source": [
    "Recommendations:\n",
    "\n",
    "Recommendation 1 : As USA and UK are both in top movies and tv shows list, netflix should priorly focus on this two countries.\n",
    "( Reference : Insight 7.1 )\n",
    "\n",
    "\n",
    "Recommendation 2 : As Indian actors are mostly casted in case of movies and also India falls on top countries list, netflix should look forward to expand on India for movies catagory.\n",
    "( Reference : Insight Insight 4.6,  Insight 4.5 )\n",
    "\n",
    "\n",
    "\n",
    "Recommendation 3 : As more actors are casted for specifically tv shows in Japan and South Korea, netflix should focus on Japan and South Korea specifically for tv shows catagory.\n",
    "( Reference : Insight 4.8  )\n",
    "\n",
    "\n",
    "\n",
    "Recommendation 4 : Keeping in sight 'Frequencies of Movies and TV Shows over the years' plot, netflix should focus more on movies over tv shows as movies were clearly dominating over the years.\n",
    "( Reference : Insight 4.1  )\n",
    "\n",
    "\n",
    "\n",
    "Recommendation 5 : If it is said to choose 1 country on both movies and tv shows catagory, netflix should pick USA, as USA tops the list of both movies and tv shows by huge margin.\n",
    "( Reference : Insight 4.4  )\n",
    "\n",
    "\n",
    "\n",
    "\n",
    "\n",
    "\n",
    "\n"
   ]
  },
  {
   "cell_type": "code",
   "execution_count": null,
   "id": "bcfec856",
   "metadata": {},
   "outputs": [],
   "source": []
  }
 ],
 "metadata": {
  "kernelspec": {
   "display_name": "Python 3 (ipykernel)",
   "language": "python",
   "name": "python3"
  },
  "language_info": {
   "codemirror_mode": {
    "name": "ipython",
    "version": 3
   },
   "file_extension": ".py",
   "mimetype": "text/x-python",
   "name": "python",
   "nbconvert_exporter": "python",
   "pygments_lexer": "ipython3",
   "version": "3.9.5"
  }
 },
 "nbformat": 4,
 "nbformat_minor": 5
}
