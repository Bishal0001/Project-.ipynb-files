{
 "cells": [
  {
   "cell_type": "code",
   "execution_count": 52,
   "id": "4faa0a1f",
   "metadata": {},
   "outputs": [],
   "source": [
    "import numpy as np \n",
    "import pandas as pd \n",
    "import requests\n",
    "from bs4 import BeautifulSoup"
   ]
  },
  {
   "cell_type": "code",
   "execution_count": 53,
   "id": "cc722941",
   "metadata": {},
   "outputs": [
    {
     "name": "stdout",
     "output_type": "stream",
     "text": [
      "[ True  True  True  True  True  True  True  True  True  True  True  True\n",
      "  True  True  True  True  True  True  True  True  True  True  True  True\n",
      "  True  True  True  True  True]\n"
     ]
    },
    {
     "data": {
      "text/html": [
       "<div>\n",
       "<style scoped>\n",
       "    .dataframe tbody tr th:only-of-type {\n",
       "        vertical-align: middle;\n",
       "    }\n",
       "\n",
       "    .dataframe tbody tr th {\n",
       "        vertical-align: top;\n",
       "    }\n",
       "\n",
       "    .dataframe thead th {\n",
       "        text-align: right;\n",
       "    }\n",
       "</style>\n",
       "<table border=\"1\" class=\"dataframe\">\n",
       "  <thead>\n",
       "    <tr style=\"text-align: right;\">\n",
       "      <th></th>\n",
       "      <th>SYMBOL \\n</th>\n",
       "      <th>COMPANY \\n</th>\n",
       "      <th>REGULATION \\n</th>\n",
       "      <th>NAME OF THE ACQUIRER/DISPOSER \\n</th>\n",
       "      <th>CATEGORY OF PERSON \\n</th>\n",
       "      <th>TYPE OF SECURITY (PRIOR) \\n</th>\n",
       "      <th>NO. OF SECURITY (PRIOR) \\n</th>\n",
       "      <th>% SHAREHOLDING (PRIOR) \\n</th>\n",
       "      <th>TYPE OF SECURITY (ACQUIRED/DISPLOSED) \\n</th>\n",
       "      <th>NO. OF SECURITIES (ACQUIRED/DISPLOSED) \\n</th>\n",
       "      <th>...</th>\n",
       "      <th>DERIVATIVE TYPE SECURITY \\n</th>\n",
       "      <th>DERIVATIVE CONTRACT SPECIFICATION \\n</th>\n",
       "      <th>NOTIONAL VALUE(BUY) \\n</th>\n",
       "      <th>NUMBER OF UNITS/CONTRACT LOT SIZE (BUY) \\n</th>\n",
       "      <th>NOTIONAL VALUE(SELL) \\n</th>\n",
       "      <th>NUMBER OF UNITS/CONTRACT LOT SIZE  (SELL) \\n</th>\n",
       "      <th>EXCHANGE \\n</th>\n",
       "      <th>REMARK \\n</th>\n",
       "      <th>BROADCASTE DATE AND TIME \\n</th>\n",
       "      <th>XBRL \\n</th>\n",
       "    </tr>\n",
       "  </thead>\n",
       "  <tbody>\n",
       "    <tr>\n",
       "      <th>0</th>\n",
       "      <td>AUBANK</td>\n",
       "      <td>AU Small Finance Bank Limited</td>\n",
       "      <td>7(2)</td>\n",
       "      <td>Ashok Kumar Khandelwal</td>\n",
       "      <td>-</td>\n",
       "      <td>Equity Shares</td>\n",
       "      <td>21794</td>\n",
       "      <td>0.0</td>\n",
       "      <td>NaN</td>\n",
       "      <td>3000.0</td>\n",
       "      <td>...</td>\n",
       "      <td>-</td>\n",
       "      <td>-</td>\n",
       "      <td>0</td>\n",
       "      <td>0</td>\n",
       "      <td>0</td>\n",
       "      <td>0</td>\n",
       "      <td>NaN</td>\n",
       "      <td>-</td>\n",
       "      <td>07-Oct-2022 18:58</td>\n",
       "      <td>https://archives.nseindia.com/corporate/xbrl/I...</td>\n",
       "    </tr>\n",
       "    <tr>\n",
       "      <th>1</th>\n",
       "      <td>INFIBEAM</td>\n",
       "      <td>Infibeam Avenues Limited</td>\n",
       "      <td>7(2)</td>\n",
       "      <td>Vybe Ventures LLP</td>\n",
       "      <td>Other</td>\n",
       "      <td>Warrants</td>\n",
       "      <td>Nil</td>\n",
       "      <td>0.0</td>\n",
       "      <td>NaN</td>\n",
       "      <td>95000000.0</td>\n",
       "      <td>...</td>\n",
       "      <td>-</td>\n",
       "      <td>-</td>\n",
       "      <td>0</td>\n",
       "      <td>0</td>\n",
       "      <td>0</td>\n",
       "      <td>0</td>\n",
       "      <td>NaN</td>\n",
       "      <td>-</td>\n",
       "      <td>07-Oct-2022 18:16</td>\n",
       "      <td>https://archives.nseindia.com/corporate/xbrl/I...</td>\n",
       "    </tr>\n",
       "    <tr>\n",
       "      <th>2</th>\n",
       "      <td>NAUKRI</td>\n",
       "      <td>Info Edge (India) Limited</td>\n",
       "      <td>7(2)</td>\n",
       "      <td>Ashish Anand</td>\n",
       "      <td>Employees/Designated Employees</td>\n",
       "      <td>Equity Shares</td>\n",
       "      <td>275</td>\n",
       "      <td>0.0</td>\n",
       "      <td>NaN</td>\n",
       "      <td>100.0</td>\n",
       "      <td>...</td>\n",
       "      <td>-</td>\n",
       "      <td>-</td>\n",
       "      <td>0</td>\n",
       "      <td>0</td>\n",
       "      <td>0</td>\n",
       "      <td>0</td>\n",
       "      <td>NaN</td>\n",
       "      <td>-</td>\n",
       "      <td>07-Oct-2022 17:58</td>\n",
       "      <td>https://archives.nseindia.com/corporate/xbrl/I...</td>\n",
       "    </tr>\n",
       "    <tr>\n",
       "      <th>3</th>\n",
       "      <td>NAUKRI</td>\n",
       "      <td>Info Edge (India) Limited</td>\n",
       "      <td>7(2)</td>\n",
       "      <td>Ashish Anand</td>\n",
       "      <td>Employees/Designated Employees</td>\n",
       "      <td>Equity Shares</td>\n",
       "      <td>275</td>\n",
       "      <td>0.0</td>\n",
       "      <td>NaN</td>\n",
       "      <td>100.0</td>\n",
       "      <td>...</td>\n",
       "      <td>-</td>\n",
       "      <td>-</td>\n",
       "      <td>0</td>\n",
       "      <td>0</td>\n",
       "      <td>0</td>\n",
       "      <td>0</td>\n",
       "      <td>NaN</td>\n",
       "      <td>-</td>\n",
       "      <td>07-Oct-2022 17:58</td>\n",
       "      <td>https://archives.nseindia.com/corporate/xbrl/I...</td>\n",
       "    </tr>\n",
       "    <tr>\n",
       "      <th>4</th>\n",
       "      <td>NAUKRI</td>\n",
       "      <td>Info Edge (India) Limited</td>\n",
       "      <td>7(2)</td>\n",
       "      <td>Ashish Anand</td>\n",
       "      <td>Employees/Designated Employees</td>\n",
       "      <td>Equity Shares</td>\n",
       "      <td>275</td>\n",
       "      <td>0.0</td>\n",
       "      <td>NaN</td>\n",
       "      <td>100.0</td>\n",
       "      <td>...</td>\n",
       "      <td>-</td>\n",
       "      <td>-</td>\n",
       "      <td>0</td>\n",
       "      <td>0</td>\n",
       "      <td>0</td>\n",
       "      <td>0</td>\n",
       "      <td>NaN</td>\n",
       "      <td>-</td>\n",
       "      <td>07-Oct-2022 17:58</td>\n",
       "      <td>https://archives.nseindia.com/corporate/xbrl/I...</td>\n",
       "    </tr>\n",
       "  </tbody>\n",
       "</table>\n",
       "<p>5 rows × 29 columns</p>\n",
       "</div>"
      ],
      "text/plain": [
       "  SYMBOL \\n                     COMPANY \\n REGULATION \\n  \\\n",
       "0    AUBANK  AU Small Finance Bank Limited          7(2)   \n",
       "1  INFIBEAM       Infibeam Avenues Limited          7(2)   \n",
       "2    NAUKRI      Info Edge (India) Limited          7(2)   \n",
       "3    NAUKRI      Info Edge (India) Limited          7(2)   \n",
       "4    NAUKRI      Info Edge (India) Limited          7(2)   \n",
       "\n",
       "  NAME OF THE ACQUIRER/DISPOSER \\n           CATEGORY OF PERSON \\n  \\\n",
       "0           Ashok Kumar Khandelwal                               -   \n",
       "1                Vybe Ventures LLP                           Other   \n",
       "2                     Ashish Anand  Employees/Designated Employees   \n",
       "3                     Ashish Anand  Employees/Designated Employees   \n",
       "4                     Ashish Anand  Employees/Designated Employees   \n",
       "\n",
       "  TYPE OF SECURITY (PRIOR) \\n NO. OF SECURITY (PRIOR) \\n  \\\n",
       "0               Equity Shares                      21794   \n",
       "1                    Warrants                        Nil   \n",
       "2               Equity Shares                        275   \n",
       "3               Equity Shares                        275   \n",
       "4               Equity Shares                        275   \n",
       "\n",
       "   % SHAREHOLDING (PRIOR) \\n  TYPE OF SECURITY (ACQUIRED/DISPLOSED) \\n  \\\n",
       "0                        0.0                                       NaN   \n",
       "1                        0.0                                       NaN   \n",
       "2                        0.0                                       NaN   \n",
       "3                        0.0                                       NaN   \n",
       "4                        0.0                                       NaN   \n",
       "\n",
       "   NO. OF SECURITIES (ACQUIRED/DISPLOSED) \\n  ... DERIVATIVE TYPE SECURITY \\n  \\\n",
       "0                                     3000.0  ...                           -   \n",
       "1                                 95000000.0  ...                           -   \n",
       "2                                      100.0  ...                           -   \n",
       "3                                      100.0  ...                           -   \n",
       "4                                      100.0  ...                           -   \n",
       "\n",
       "  DERIVATIVE CONTRACT SPECIFICATION \\n NOTIONAL VALUE(BUY) \\n  \\\n",
       "0                                    -                      0   \n",
       "1                                    -                      0   \n",
       "2                                    -                      0   \n",
       "3                                    -                      0   \n",
       "4                                    -                      0   \n",
       "\n",
       "  NUMBER OF UNITS/CONTRACT LOT SIZE (BUY) \\n NOTIONAL VALUE(SELL) \\n  \\\n",
       "0                                          0                       0   \n",
       "1                                          0                       0   \n",
       "2                                          0                       0   \n",
       "3                                          0                       0   \n",
       "4                                          0                       0   \n",
       "\n",
       "  NUMBER OF UNITS/CONTRACT LOT SIZE  (SELL) \\n EXCHANGE \\n REMARK \\n  \\\n",
       "0                                            0         NaN         -   \n",
       "1                                            0         NaN         -   \n",
       "2                                            0         NaN         -   \n",
       "3                                            0         NaN         -   \n",
       "4                                            0         NaN         -   \n",
       "\n",
       "  BROADCASTE DATE AND TIME \\n  \\\n",
       "0           07-Oct-2022 18:58   \n",
       "1           07-Oct-2022 18:16   \n",
       "2           07-Oct-2022 17:58   \n",
       "3           07-Oct-2022 17:58   \n",
       "4           07-Oct-2022 17:58   \n",
       "\n",
       "                                             XBRL \\n  \n",
       "0  https://archives.nseindia.com/corporate/xbrl/I...  \n",
       "1  https://archives.nseindia.com/corporate/xbrl/I...  \n",
       "2  https://archives.nseindia.com/corporate/xbrl/I...  \n",
       "3  https://archives.nseindia.com/corporate/xbrl/I...  \n",
       "4  https://archives.nseindia.com/corporate/xbrl/I...  \n",
       "\n",
       "[5 rows x 29 columns]"
      ]
     },
     "execution_count": 53,
     "metadata": {},
     "output_type": "execute_result"
    }
   ],
   "source": [
    "df_old = pd.read_csv('CF-Insider-Trading-equities-25-06-2022-to-25-09-2022.csv')\n",
    "df = pd.read_csv('CF08-07-2022-to-08-10-2022.csv')\n",
    "print(df_old.columns == df.columns)\n",
    "df.head()"
   ]
  },
  {
   "cell_type": "markdown",
   "id": "9290f6f3",
   "metadata": {},
   "source": [
    "---\n",
    "## Renaming All Columns Excluding Unnecessery Ones ."
   ]
  },
  {
   "cell_type": "code",
   "execution_count": 54,
   "id": "8333959d",
   "metadata": {},
   "outputs": [],
   "source": [
    "df = df[[\n",
    "    'SYMBOL \\n', 'CATEGORY OF PERSON \\n',\n",
    "    'NO. OF SECURITIES (ACQUIRED/DISPLOSED) \\n',\n",
    "    'VALUE OF SECURITY (ACQUIRED/DISPLOSED) \\n', 'MODE OF ACQUISITION \\n',\n",
    "    'ACQUISITION/DISPOSAL TRANSACTION TYPE \\n', 'TYPE OF SECURITY (POST) \\n',\n",
    "    '% SHAREHOLDING (PRIOR) \\n', '% POST \\n'\n",
    "]]\n",
    "\n",
    "\n",
    "df.rename(columns={'SYMBOL \\n':'SYMBOL','CATEGORY OF PERSON \\n':'CATEGORY_OF_PERSON','NO. OF SECURITIES (ACQUIRED/DISPLOSED) \\n':'NO_OF_SECURITIES_ACQUIRED','VALUE OF SECURITY (ACQUIRED/DISPLOSED) \\n':'VALUE_OF_SECURITY_ACQUIRED','ACQUISITION/DISPOSAL TRANSACTION TYPE \\n':'ACQUISITION_TRANSACTION_TYPE','MODE OF ACQUISITION \\n':'MODE_OF_ACQUISITION','% SHAREHOLDING (PRIOR) \\n':'%_SHAREHOLDING_PRIOR','% POST \\n':'%_SHAREHOLDING_POST','TYPE OF SECURITY (POST) \\n':'TYPE_OF_SECURITY'},inplace=True)"
   ]
  },
  {
   "cell_type": "code",
   "execution_count": 55,
   "id": "f55f5800",
   "metadata": {},
   "outputs": [
    {
     "data": {
      "text/html": [
       "<div>\n",
       "<style scoped>\n",
       "    .dataframe tbody tr th:only-of-type {\n",
       "        vertical-align: middle;\n",
       "    }\n",
       "\n",
       "    .dataframe tbody tr th {\n",
       "        vertical-align: top;\n",
       "    }\n",
       "\n",
       "    .dataframe thead th {\n",
       "        text-align: right;\n",
       "    }\n",
       "</style>\n",
       "<table border=\"1\" class=\"dataframe\">\n",
       "  <thead>\n",
       "    <tr style=\"text-align: right;\">\n",
       "      <th></th>\n",
       "      <th>SYMBOL</th>\n",
       "      <th>CATEGORY_OF_PERSON</th>\n",
       "      <th>NO_OF_SECURITIES_ACQUIRED</th>\n",
       "      <th>VALUE_OF_SECURITY_ACQUIRED</th>\n",
       "      <th>MODE_OF_ACQUISITION</th>\n",
       "      <th>ACQUISITION_TRANSACTION_TYPE</th>\n",
       "      <th>TYPE_OF_SECURITY</th>\n",
       "      <th>%_SHAREHOLDING_PRIOR</th>\n",
       "      <th>%_SHAREHOLDING_POST</th>\n",
       "    </tr>\n",
       "  </thead>\n",
       "  <tbody>\n",
       "    <tr>\n",
       "      <th>0</th>\n",
       "      <td>AUBANK</td>\n",
       "      <td>-</td>\n",
       "      <td>3000.0</td>\n",
       "      <td>1801200</td>\n",
       "      <td>Pledge Creation</td>\n",
       "      <td>Pledge</td>\n",
       "      <td>Equity Shares</td>\n",
       "      <td>0.0</td>\n",
       "      <td>0</td>\n",
       "    </tr>\n",
       "    <tr>\n",
       "      <th>1</th>\n",
       "      <td>INFIBEAM</td>\n",
       "      <td>Other</td>\n",
       "      <td>95000000.0</td>\n",
       "      <td>403750000</td>\n",
       "      <td>Preferential Offer</td>\n",
       "      <td>Buy</td>\n",
       "      <td>Warrants</td>\n",
       "      <td>0.0</td>\n",
       "      <td>3.43</td>\n",
       "    </tr>\n",
       "    <tr>\n",
       "      <th>2</th>\n",
       "      <td>NAUKRI</td>\n",
       "      <td>Employees/Designated Employees</td>\n",
       "      <td>100.0</td>\n",
       "      <td>354752</td>\n",
       "      <td>Revokation of Pledge</td>\n",
       "      <td>Pledge Revoke</td>\n",
       "      <td>Equity Shares</td>\n",
       "      <td>0.0</td>\n",
       "      <td>0</td>\n",
       "    </tr>\n",
       "    <tr>\n",
       "      <th>3</th>\n",
       "      <td>NAUKRI</td>\n",
       "      <td>Employees/Designated Employees</td>\n",
       "      <td>100.0</td>\n",
       "      <td>341198</td>\n",
       "      <td>Pledge Creation</td>\n",
       "      <td>Pledge</td>\n",
       "      <td>Equity Shares</td>\n",
       "      <td>0.0</td>\n",
       "      <td>0</td>\n",
       "    </tr>\n",
       "    <tr>\n",
       "      <th>4</th>\n",
       "      <td>NAUKRI</td>\n",
       "      <td>Employees/Designated Employees</td>\n",
       "      <td>100.0</td>\n",
       "      <td>353097</td>\n",
       "      <td>Pledge Creation</td>\n",
       "      <td>Pledge</td>\n",
       "      <td>Equity Shares</td>\n",
       "      <td>0.0</td>\n",
       "      <td>0</td>\n",
       "    </tr>\n",
       "  </tbody>\n",
       "</table>\n",
       "</div>"
      ],
      "text/plain": [
       "     SYMBOL              CATEGORY_OF_PERSON  NO_OF_SECURITIES_ACQUIRED  \\\n",
       "0    AUBANK                               -                     3000.0   \n",
       "1  INFIBEAM                           Other                 95000000.0   \n",
       "2    NAUKRI  Employees/Designated Employees                      100.0   \n",
       "3    NAUKRI  Employees/Designated Employees                      100.0   \n",
       "4    NAUKRI  Employees/Designated Employees                      100.0   \n",
       "\n",
       "  VALUE_OF_SECURITY_ACQUIRED   MODE_OF_ACQUISITION  \\\n",
       "0                    1801200       Pledge Creation   \n",
       "1                  403750000    Preferential Offer   \n",
       "2                     354752  Revokation of Pledge   \n",
       "3                     341198       Pledge Creation   \n",
       "4                     353097       Pledge Creation   \n",
       "\n",
       "  ACQUISITION_TRANSACTION_TYPE TYPE_OF_SECURITY  %_SHAREHOLDING_PRIOR  \\\n",
       "0                       Pledge    Equity Shares                   0.0   \n",
       "1                          Buy         Warrants                   0.0   \n",
       "2                Pledge Revoke    Equity Shares                   0.0   \n",
       "3                       Pledge    Equity Shares                   0.0   \n",
       "4                       Pledge    Equity Shares                   0.0   \n",
       "\n",
       "  %_SHAREHOLDING_POST  \n",
       "0                   0  \n",
       "1                3.43  \n",
       "2                   0  \n",
       "3                   0  \n",
       "4                   0  "
      ]
     },
     "execution_count": 55,
     "metadata": {},
     "output_type": "execute_result"
    }
   ],
   "source": [
    "df.head()"
   ]
  },
  {
   "cell_type": "markdown",
   "id": "384fc1d8",
   "metadata": {},
   "source": [
    "---\n",
    "## Preparing Dataset For Further Analysis."
   ]
  },
  {
   "cell_type": "code",
   "execution_count": 56,
   "id": "8e3d387e",
   "metadata": {},
   "outputs": [],
   "source": [
    "df = df[df['ACQUISITION_TRANSACTION_TYPE'] == 'Buy']\n",
    "df = df[df['TYPE_OF_SECURITY'] == 'Equity Shares']\n",
    "df = df[df['TYPE_OF_SECURITY'] == 'Equity Shares']\n",
    "df = df[df['CATEGORY_OF_PERSON'].isin(['Promoters','Promoter Group'])]\n",
    "df = df[df['MODE_OF_ACQUISITION'] == 'Market Purchase']\n",
    "\n",
    "\n",
    "df = df[[\n",
    "    'SYMBOL', 'NO_OF_SECURITIES_ACQUIRED', 'VALUE_OF_SECURITY_ACQUIRED',\n",
    "    '%_SHAREHOLDING_PRIOR', '%_SHAREHOLDING_POST'\n",
    "]]"
   ]
  },
  {
   "cell_type": "code",
   "execution_count": 57,
   "id": "6f37ae05",
   "metadata": {},
   "outputs": [
    {
     "data": {
      "text/html": [
       "<div>\n",
       "<style scoped>\n",
       "    .dataframe tbody tr th:only-of-type {\n",
       "        vertical-align: middle;\n",
       "    }\n",
       "\n",
       "    .dataframe tbody tr th {\n",
       "        vertical-align: top;\n",
       "    }\n",
       "\n",
       "    .dataframe thead th {\n",
       "        text-align: right;\n",
       "    }\n",
       "</style>\n",
       "<table border=\"1\" class=\"dataframe\">\n",
       "  <thead>\n",
       "    <tr style=\"text-align: right;\">\n",
       "      <th></th>\n",
       "      <th>SYMBOL</th>\n",
       "      <th>NO_OF_SECURITIES_ACQUIRED</th>\n",
       "      <th>VALUE_OF_SECURITY_ACQUIRED</th>\n",
       "      <th>%_SHAREHOLDING_PRIOR</th>\n",
       "      <th>%_SHAREHOLDING_POST</th>\n",
       "    </tr>\n",
       "  </thead>\n",
       "  <tbody>\n",
       "    <tr>\n",
       "      <th>18</th>\n",
       "      <td>GODREJAGRO</td>\n",
       "      <td>3500.0</td>\n",
       "      <td>1779191</td>\n",
       "      <td>64.90</td>\n",
       "      <td>64.9</td>\n",
       "    </tr>\n",
       "    <tr>\n",
       "      <th>28</th>\n",
       "      <td>GNA</td>\n",
       "      <td>1100.0</td>\n",
       "      <td>736000</td>\n",
       "      <td>0.03</td>\n",
       "      <td>0.03</td>\n",
       "    </tr>\n",
       "    <tr>\n",
       "      <th>49</th>\n",
       "      <td>GODREJPROP</td>\n",
       "      <td>41600.0</td>\n",
       "      <td>49681632</td>\n",
       "      <td>47.33</td>\n",
       "      <td>47.34</td>\n",
       "    </tr>\n",
       "    <tr>\n",
       "      <th>55</th>\n",
       "      <td>GODREJAGRO</td>\n",
       "      <td>2798.0</td>\n",
       "      <td>1424445</td>\n",
       "      <td>64.90</td>\n",
       "      <td>64.9</td>\n",
       "    </tr>\n",
       "    <tr>\n",
       "      <th>56</th>\n",
       "      <td>DCW</td>\n",
       "      <td>573340.0</td>\n",
       "      <td>30001417</td>\n",
       "      <td>0.05</td>\n",
       "      <td>0.24</td>\n",
       "    </tr>\n",
       "  </tbody>\n",
       "</table>\n",
       "</div>"
      ],
      "text/plain": [
       "        SYMBOL  NO_OF_SECURITIES_ACQUIRED VALUE_OF_SECURITY_ACQUIRED  \\\n",
       "18  GODREJAGRO                     3500.0                    1779191   \n",
       "28         GNA                     1100.0                     736000   \n",
       "49  GODREJPROP                    41600.0                   49681632   \n",
       "55  GODREJAGRO                     2798.0                    1424445   \n",
       "56         DCW                   573340.0                   30001417   \n",
       "\n",
       "    %_SHAREHOLDING_PRIOR %_SHAREHOLDING_POST  \n",
       "18                 64.90                64.9  \n",
       "28                  0.03                0.03  \n",
       "49                 47.33               47.34  \n",
       "55                 64.90                64.9  \n",
       "56                  0.05                0.24  "
      ]
     },
     "execution_count": 57,
     "metadata": {},
     "output_type": "execute_result"
    }
   ],
   "source": [
    "a = df.copy()\n",
    "df.head()"
   ]
  },
  {
   "cell_type": "markdown",
   "id": "7f922158",
   "metadata": {},
   "source": [
    "---\n",
    "## Calculations Start Here."
   ]
  },
  {
   "cell_type": "markdown",
   "id": "55cb1c6f",
   "metadata": {},
   "source": [
    "### Finding Total Values And No Of Securities Bought."
   ]
  },
  {
   "cell_type": "code",
   "execution_count": 58,
   "id": "16b1c231",
   "metadata": {},
   "outputs": [
    {
     "data": {
      "text/html": [
       "<div>\n",
       "<style scoped>\n",
       "    .dataframe tbody tr th:only-of-type {\n",
       "        vertical-align: middle;\n",
       "    }\n",
       "\n",
       "    .dataframe tbody tr th {\n",
       "        vertical-align: top;\n",
       "    }\n",
       "\n",
       "    .dataframe thead th {\n",
       "        text-align: right;\n",
       "    }\n",
       "</style>\n",
       "<table border=\"1\" class=\"dataframe\">\n",
       "  <thead>\n",
       "    <tr style=\"text-align: right;\">\n",
       "      <th></th>\n",
       "      <th>SYMBOL</th>\n",
       "      <th>NO_OF_SECURITIES_ACQUIRED</th>\n",
       "      <th>VALUE_OF_SECURITY_ACQUIRED</th>\n",
       "      <th>%_SHAREHOLDING_PRIOR</th>\n",
       "      <th>%_SHAREHOLDING_POST</th>\n",
       "    </tr>\n",
       "  </thead>\n",
       "  <tbody>\n",
       "    <tr>\n",
       "      <th>18</th>\n",
       "      <td>GODREJAGRO</td>\n",
       "      <td>3500.0</td>\n",
       "      <td>1779191</td>\n",
       "      <td>64.90</td>\n",
       "      <td>64.9</td>\n",
       "    </tr>\n",
       "    <tr>\n",
       "      <th>28</th>\n",
       "      <td>GNA</td>\n",
       "      <td>1100.0</td>\n",
       "      <td>736000</td>\n",
       "      <td>0.03</td>\n",
       "      <td>0.03</td>\n",
       "    </tr>\n",
       "    <tr>\n",
       "      <th>49</th>\n",
       "      <td>GODREJPROP</td>\n",
       "      <td>41600.0</td>\n",
       "      <td>49681632</td>\n",
       "      <td>47.33</td>\n",
       "      <td>47.34</td>\n",
       "    </tr>\n",
       "    <tr>\n",
       "      <th>55</th>\n",
       "      <td>GODREJAGRO</td>\n",
       "      <td>2798.0</td>\n",
       "      <td>1424445</td>\n",
       "      <td>64.90</td>\n",
       "      <td>64.9</td>\n",
       "    </tr>\n",
       "    <tr>\n",
       "      <th>56</th>\n",
       "      <td>DCW</td>\n",
       "      <td>573340.0</td>\n",
       "      <td>30001417</td>\n",
       "      <td>0.05</td>\n",
       "      <td>0.24</td>\n",
       "    </tr>\n",
       "  </tbody>\n",
       "</table>\n",
       "</div>"
      ],
      "text/plain": [
       "        SYMBOL  NO_OF_SECURITIES_ACQUIRED VALUE_OF_SECURITY_ACQUIRED  \\\n",
       "18  GODREJAGRO                     3500.0                    1779191   \n",
       "28         GNA                     1100.0                     736000   \n",
       "49  GODREJPROP                    41600.0                   49681632   \n",
       "55  GODREJAGRO                     2798.0                    1424445   \n",
       "56         DCW                   573340.0                   30001417   \n",
       "\n",
       "    %_SHAREHOLDING_PRIOR %_SHAREHOLDING_POST  \n",
       "18                 64.90                64.9  \n",
       "28                  0.03                0.03  \n",
       "49                 47.33               47.34  \n",
       "55                 64.90                64.9  \n",
       "56                  0.05                0.24  "
      ]
     },
     "execution_count": 58,
     "metadata": {},
     "output_type": "execute_result"
    }
   ],
   "source": [
    "df.head()"
   ]
  },
  {
   "cell_type": "code",
   "execution_count": 59,
   "id": "57777685",
   "metadata": {},
   "outputs": [],
   "source": [
    "t_val = df[['SYMBOL','NO_OF_SECURITIES_ACQUIRED','VALUE_OF_SECURITY_ACQUIRED']]\n"
   ]
  },
  {
   "cell_type": "code",
   "execution_count": 60,
   "id": "8edde323",
   "metadata": {},
   "outputs": [
    {
     "name": "stdout",
     "output_type": "stream",
     "text": [
      "<class 'pandas.core.frame.DataFrame'>\n",
      "Int64Index: 513 entries, 18 to 4977\n",
      "Data columns (total 3 columns):\n",
      " #   Column                      Non-Null Count  Dtype  \n",
      "---  ------                      --------------  -----  \n",
      " 0   SYMBOL                      513 non-null    object \n",
      " 1   NO_OF_SECURITIES_ACQUIRED   513 non-null    float64\n",
      " 2   VALUE_OF_SECURITY_ACQUIRED  513 non-null    float64\n",
      "dtypes: float64(2), object(1)\n",
      "memory usage: 16.0+ KB\n"
     ]
    }
   ],
   "source": [
    "t_val.head()\n",
    "t_val = t_val.astype({'VALUE_OF_SECURITY_ACQUIRED':'float','NO_OF_SECURITIES_ACQUIRED':'float'})\n",
    "t_val.info()"
   ]
  },
  {
   "cell_type": "code",
   "execution_count": 61,
   "id": "f983fd2b",
   "metadata": {},
   "outputs": [
    {
     "data": {
      "text/html": [
       "<div>\n",
       "<style scoped>\n",
       "    .dataframe tbody tr th:only-of-type {\n",
       "        vertical-align: middle;\n",
       "    }\n",
       "\n",
       "    .dataframe tbody tr th {\n",
       "        vertical-align: top;\n",
       "    }\n",
       "\n",
       "    .dataframe thead th {\n",
       "        text-align: right;\n",
       "    }\n",
       "</style>\n",
       "<table border=\"1\" class=\"dataframe\">\n",
       "  <thead>\n",
       "    <tr style=\"text-align: right;\">\n",
       "      <th></th>\n",
       "      <th>SYMBOL</th>\n",
       "      <th>VALUE_OF_SECURITY_ACQUIRED</th>\n",
       "    </tr>\n",
       "  </thead>\n",
       "  <tbody>\n",
       "    <tr>\n",
       "      <th>0</th>\n",
       "      <td>ADANIENT</td>\n",
       "      <td>1.278702e+10</td>\n",
       "    </tr>\n",
       "    <tr>\n",
       "      <th>1</th>\n",
       "      <td>ADANIGREEN</td>\n",
       "      <td>9.351393e+09</td>\n",
       "    </tr>\n",
       "    <tr>\n",
       "      <th>2</th>\n",
       "      <td>ADANIPORTS</td>\n",
       "      <td>8.293400e+04</td>\n",
       "    </tr>\n",
       "    <tr>\n",
       "      <th>3</th>\n",
       "      <td>ADANITRANS</td>\n",
       "      <td>3.565280e+05</td>\n",
       "    </tr>\n",
       "    <tr>\n",
       "      <th>4</th>\n",
       "      <td>AIROLAM</td>\n",
       "      <td>7.691300e+04</td>\n",
       "    </tr>\n",
       "  </tbody>\n",
       "</table>\n",
       "</div>"
      ],
      "text/plain": [
       "       SYMBOL  VALUE_OF_SECURITY_ACQUIRED\n",
       "0    ADANIENT                1.278702e+10\n",
       "1  ADANIGREEN                9.351393e+09\n",
       "2  ADANIPORTS                8.293400e+04\n",
       "3  ADANITRANS                3.565280e+05\n",
       "4     AIROLAM                7.691300e+04"
      ]
     },
     "execution_count": 61,
     "metadata": {},
     "output_type": "execute_result"
    }
   ],
   "source": [
    "val = pd.DataFrame(t_val.groupby('SYMBOL')['VALUE_OF_SECURITY_ACQUIRED'].sum()).reset_index()\n",
    "val.head()"
   ]
  },
  {
   "cell_type": "code",
   "execution_count": 62,
   "id": "2f08041c",
   "metadata": {},
   "outputs": [
    {
     "data": {
      "text/html": [
       "<div>\n",
       "<style scoped>\n",
       "    .dataframe tbody tr th:only-of-type {\n",
       "        vertical-align: middle;\n",
       "    }\n",
       "\n",
       "    .dataframe tbody tr th {\n",
       "        vertical-align: top;\n",
       "    }\n",
       "\n",
       "    .dataframe thead th {\n",
       "        text-align: right;\n",
       "    }\n",
       "</style>\n",
       "<table border=\"1\" class=\"dataframe\">\n",
       "  <thead>\n",
       "    <tr style=\"text-align: right;\">\n",
       "      <th></th>\n",
       "      <th>SYMBOL</th>\n",
       "      <th>NO_OF_SECURITIES_ACQUIRED</th>\n",
       "    </tr>\n",
       "  </thead>\n",
       "  <tbody>\n",
       "    <tr>\n",
       "      <th>0</th>\n",
       "      <td>ADANIENT</td>\n",
       "      <td>3486140.0</td>\n",
       "    </tr>\n",
       "    <tr>\n",
       "      <th>1</th>\n",
       "      <td>ADANIGREEN</td>\n",
       "      <td>4000100.0</td>\n",
       "    </tr>\n",
       "    <tr>\n",
       "      <th>2</th>\n",
       "      <td>ADANIPORTS</td>\n",
       "      <td>100.0</td>\n",
       "    </tr>\n",
       "    <tr>\n",
       "      <th>3</th>\n",
       "      <td>ADANITRANS</td>\n",
       "      <td>100.0</td>\n",
       "    </tr>\n",
       "    <tr>\n",
       "      <th>4</th>\n",
       "      <td>AIROLAM</td>\n",
       "      <td>1050.0</td>\n",
       "    </tr>\n",
       "  </tbody>\n",
       "</table>\n",
       "</div>"
      ],
      "text/plain": [
       "       SYMBOL  NO_OF_SECURITIES_ACQUIRED\n",
       "0    ADANIENT                  3486140.0\n",
       "1  ADANIGREEN                  4000100.0\n",
       "2  ADANIPORTS                      100.0\n",
       "3  ADANITRANS                      100.0\n",
       "4     AIROLAM                     1050.0"
      ]
     },
     "execution_count": 62,
     "metadata": {},
     "output_type": "execute_result"
    }
   ],
   "source": [
    "t_sec = pd.DataFrame(t_val.groupby('SYMBOL')['NO_OF_SECURITIES_ACQUIRED'].sum()).reset_index()\n",
    "t_sec.head()"
   ]
  },
  {
   "cell_type": "markdown",
   "id": "9900dafd",
   "metadata": {},
   "source": [
    "---"
   ]
  },
  {
   "cell_type": "code",
   "execution_count": 63,
   "id": "d6658e45",
   "metadata": {},
   "outputs": [
    {
     "data": {
      "text/html": [
       "<div>\n",
       "<style scoped>\n",
       "    .dataframe tbody tr th:only-of-type {\n",
       "        vertical-align: middle;\n",
       "    }\n",
       "\n",
       "    .dataframe tbody tr th {\n",
       "        vertical-align: top;\n",
       "    }\n",
       "\n",
       "    .dataframe thead th {\n",
       "        text-align: right;\n",
       "    }\n",
       "</style>\n",
       "<table border=\"1\" class=\"dataframe\">\n",
       "  <thead>\n",
       "    <tr style=\"text-align: right;\">\n",
       "      <th></th>\n",
       "      <th>SYMBOL</th>\n",
       "      <th>VALUE_OF_SECURITY_ACQUIRED</th>\n",
       "      <th>NO_OF_SECURITIES_ACQUIRED</th>\n",
       "    </tr>\n",
       "  </thead>\n",
       "  <tbody>\n",
       "    <tr>\n",
       "      <th>18</th>\n",
       "      <td>GODREJAGRO</td>\n",
       "      <td>1779191.0</td>\n",
       "      <td>3500.0</td>\n",
       "    </tr>\n",
       "    <tr>\n",
       "      <th>28</th>\n",
       "      <td>GNA</td>\n",
       "      <td>736000.0</td>\n",
       "      <td>1100.0</td>\n",
       "    </tr>\n",
       "    <tr>\n",
       "      <th>49</th>\n",
       "      <td>GODREJPROP</td>\n",
       "      <td>49681632.0</td>\n",
       "      <td>41600.0</td>\n",
       "    </tr>\n",
       "    <tr>\n",
       "      <th>55</th>\n",
       "      <td>GODREJAGRO</td>\n",
       "      <td>1424445.0</td>\n",
       "      <td>2798.0</td>\n",
       "    </tr>\n",
       "    <tr>\n",
       "      <th>56</th>\n",
       "      <td>DCW</td>\n",
       "      <td>30001417.0</td>\n",
       "      <td>573340.0</td>\n",
       "    </tr>\n",
       "    <tr>\n",
       "      <th>...</th>\n",
       "      <td>...</td>\n",
       "      <td>...</td>\n",
       "      <td>...</td>\n",
       "    </tr>\n",
       "    <tr>\n",
       "      <th>4885</th>\n",
       "      <td>WALPAR</td>\n",
       "      <td>2001000.0</td>\n",
       "      <td>58000.0</td>\n",
       "    </tr>\n",
       "    <tr>\n",
       "      <th>4886</th>\n",
       "      <td>WALPAR</td>\n",
       "      <td>355000.0</td>\n",
       "      <td>10000.0</td>\n",
       "    </tr>\n",
       "    <tr>\n",
       "      <th>4905</th>\n",
       "      <td>MAHICKRA</td>\n",
       "      <td>105075.0</td>\n",
       "      <td>1500.0</td>\n",
       "    </tr>\n",
       "    <tr>\n",
       "      <th>4929</th>\n",
       "      <td>LIBAS</td>\n",
       "      <td>135000.0</td>\n",
       "      <td>5000.0</td>\n",
       "    </tr>\n",
       "    <tr>\n",
       "      <th>4977</th>\n",
       "      <td>MAHICKRA</td>\n",
       "      <td>215700.0</td>\n",
       "      <td>3000.0</td>\n",
       "    </tr>\n",
       "  </tbody>\n",
       "</table>\n",
       "<p>513 rows × 3 columns</p>\n",
       "</div>"
      ],
      "text/plain": [
       "          SYMBOL  VALUE_OF_SECURITY_ACQUIRED  NO_OF_SECURITIES_ACQUIRED\n",
       "18    GODREJAGRO                   1779191.0                     3500.0\n",
       "28           GNA                    736000.0                     1100.0\n",
       "49    GODREJPROP                  49681632.0                    41600.0\n",
       "55    GODREJAGRO                   1424445.0                     2798.0\n",
       "56           DCW                  30001417.0                   573340.0\n",
       "...          ...                         ...                        ...\n",
       "4885      WALPAR                   2001000.0                    58000.0\n",
       "4886      WALPAR                    355000.0                    10000.0\n",
       "4905    MAHICKRA                    105075.0                     1500.0\n",
       "4929       LIBAS                    135000.0                     5000.0\n",
       "4977    MAHICKRA                    215700.0                     3000.0\n",
       "\n",
       "[513 rows x 3 columns]"
      ]
     },
     "execution_count": 63,
     "metadata": {},
     "output_type": "execute_result"
    }
   ],
   "source": [
    "a_per_share_price = a[['SYMBOL','VALUE_OF_SECURITY_ACQUIRED','NO_OF_SECURITIES_ACQUIRED']]\n",
    "a_per_share_price = a_per_share_price[a['VALUE_OF_SECURITY_ACQUIRED'] != '-']\n",
    "a_per_share_price = a_per_share_price.astype({'VALUE_OF_SECURITY_ACQUIRED':'float','NO_OF_SECURITIES_ACQUIRED':'float'})\n",
    "\n",
    "a_per_share_price"
   ]
  },
  {
   "cell_type": "markdown",
   "id": "035519f7",
   "metadata": {},
   "source": [
    "###  Average Price / Share"
   ]
  },
  {
   "cell_type": "code",
   "execution_count": 64,
   "id": "acf1b3c5",
   "metadata": {},
   "outputs": [],
   "source": [
    "a_per_share_price['AVGPRICE_PERSHARE'] = a_per_share_price['VALUE_OF_SECURITY_ACQUIRED']/a_per_share_price['NO_OF_SECURITIES_ACQUIRED']"
   ]
  },
  {
   "cell_type": "code",
   "execution_count": 65,
   "id": "67a21c66",
   "metadata": {},
   "outputs": [],
   "source": [
    "avg_per_share_price = a_per_share_price[['SYMBOL','AVGPRICE_PERSHARE']]\n",
    "avg_per_share_price = avg_per_share_price.groupby(['SYMBOL']).mean()"
   ]
  },
  {
   "cell_type": "code",
   "execution_count": 66,
   "id": "f8ef9cbc",
   "metadata": {},
   "outputs": [],
   "source": [
    "# a_per_share_price.groupby('SYMBOL')['PERSHARE_PRICE'].unique()\n",
    "avg_per_share_price.reset_index(inplace=True)"
   ]
  },
  {
   "cell_type": "code",
   "execution_count": 67,
   "id": "570ceb55",
   "metadata": {},
   "outputs": [
    {
     "data": {
      "text/html": [
       "<div>\n",
       "<style scoped>\n",
       "    .dataframe tbody tr th:only-of-type {\n",
       "        vertical-align: middle;\n",
       "    }\n",
       "\n",
       "    .dataframe tbody tr th {\n",
       "        vertical-align: top;\n",
       "    }\n",
       "\n",
       "    .dataframe thead th {\n",
       "        text-align: right;\n",
       "    }\n",
       "</style>\n",
       "<table border=\"1\" class=\"dataframe\">\n",
       "  <thead>\n",
       "    <tr style=\"text-align: right;\">\n",
       "      <th></th>\n",
       "      <th>SYMBOL</th>\n",
       "      <th>AVGPRICE_PERSHARE</th>\n",
       "    </tr>\n",
       "  </thead>\n",
       "  <tbody>\n",
       "    <tr>\n",
       "      <th>0</th>\n",
       "      <td>ADANIENT</td>\n",
       "      <td>3655.385437</td>\n",
       "    </tr>\n",
       "    <tr>\n",
       "      <th>1</th>\n",
       "      <td>ADANIGREEN</td>\n",
       "      <td>2346.793446</td>\n",
       "    </tr>\n",
       "    <tr>\n",
       "      <th>2</th>\n",
       "      <td>ADANIPORTS</td>\n",
       "      <td>829.340000</td>\n",
       "    </tr>\n",
       "    <tr>\n",
       "      <th>3</th>\n",
       "      <td>ADANITRANS</td>\n",
       "      <td>3565.280000</td>\n",
       "    </tr>\n",
       "    <tr>\n",
       "      <th>4</th>\n",
       "      <td>AIROLAM</td>\n",
       "      <td>73.250476</td>\n",
       "    </tr>\n",
       "    <tr>\n",
       "      <th>...</th>\n",
       "      <td>...</td>\n",
       "      <td>...</td>\n",
       "    </tr>\n",
       "    <tr>\n",
       "      <th>82</th>\n",
       "      <td>VIPIND</td>\n",
       "      <td>584.046503</td>\n",
       "    </tr>\n",
       "    <tr>\n",
       "      <th>83</th>\n",
       "      <td>VSTTILLERS</td>\n",
       "      <td>2515.020000</td>\n",
       "    </tr>\n",
       "    <tr>\n",
       "      <th>84</th>\n",
       "      <td>WALPAR</td>\n",
       "      <td>35.000000</td>\n",
       "    </tr>\n",
       "    <tr>\n",
       "      <th>85</th>\n",
       "      <td>WSTCSTPAPR</td>\n",
       "      <td>478.914900</td>\n",
       "    </tr>\n",
       "    <tr>\n",
       "      <th>86</th>\n",
       "      <td>ZYDUSWELL</td>\n",
       "      <td>1594.294180</td>\n",
       "    </tr>\n",
       "  </tbody>\n",
       "</table>\n",
       "<p>87 rows × 2 columns</p>\n",
       "</div>"
      ],
      "text/plain": [
       "        SYMBOL  AVGPRICE_PERSHARE\n",
       "0     ADANIENT        3655.385437\n",
       "1   ADANIGREEN        2346.793446\n",
       "2   ADANIPORTS         829.340000\n",
       "3   ADANITRANS        3565.280000\n",
       "4      AIROLAM          73.250476\n",
       "..         ...                ...\n",
       "82      VIPIND         584.046503\n",
       "83  VSTTILLERS        2515.020000\n",
       "84      WALPAR          35.000000\n",
       "85  WSTCSTPAPR         478.914900\n",
       "86   ZYDUSWELL        1594.294180\n",
       "\n",
       "[87 rows x 2 columns]"
      ]
     },
     "execution_count": 67,
     "metadata": {},
     "output_type": "execute_result"
    }
   ],
   "source": [
    "avg_per_share_price"
   ]
  },
  {
   "cell_type": "markdown",
   "id": "0618b265",
   "metadata": {},
   "source": [
    "###  Maximun And Minimun Price Per Share"
   ]
  },
  {
   "cell_type": "code",
   "execution_count": 68,
   "id": "d0528916",
   "metadata": {},
   "outputs": [
    {
     "data": {
      "text/html": [
       "<div>\n",
       "<style scoped>\n",
       "    .dataframe tbody tr th:only-of-type {\n",
       "        vertical-align: middle;\n",
       "    }\n",
       "\n",
       "    .dataframe tbody tr th {\n",
       "        vertical-align: top;\n",
       "    }\n",
       "\n",
       "    .dataframe thead th {\n",
       "        text-align: right;\n",
       "    }\n",
       "</style>\n",
       "<table border=\"1\" class=\"dataframe\">\n",
       "  <thead>\n",
       "    <tr style=\"text-align: right;\">\n",
       "      <th></th>\n",
       "      <th>SYMBOL</th>\n",
       "      <th>HIGH</th>\n",
       "    </tr>\n",
       "  </thead>\n",
       "  <tbody>\n",
       "    <tr>\n",
       "      <th>0</th>\n",
       "      <td>ADANIENT</td>\n",
       "      <td>3851.91</td>\n",
       "    </tr>\n",
       "    <tr>\n",
       "      <th>1</th>\n",
       "      <td>ADANIGREEN</td>\n",
       "      <td>2424.44</td>\n",
       "    </tr>\n",
       "    <tr>\n",
       "      <th>2</th>\n",
       "      <td>ADANIPORTS</td>\n",
       "      <td>829.34</td>\n",
       "    </tr>\n",
       "    <tr>\n",
       "      <th>3</th>\n",
       "      <td>ADANITRANS</td>\n",
       "      <td>3565.28</td>\n",
       "    </tr>\n",
       "    <tr>\n",
       "      <th>4</th>\n",
       "      <td>AIROLAM</td>\n",
       "      <td>73.25</td>\n",
       "    </tr>\n",
       "  </tbody>\n",
       "</table>\n",
       "</div>"
      ],
      "text/plain": [
       "       SYMBOL     HIGH\n",
       "0    ADANIENT  3851.91\n",
       "1  ADANIGREEN  2424.44\n",
       "2  ADANIPORTS   829.34\n",
       "3  ADANITRANS  3565.28\n",
       "4     AIROLAM    73.25"
      ]
     },
     "execution_count": 68,
     "metadata": {},
     "output_type": "execute_result"
    }
   ],
   "source": [
    "highest_range  = pd.DataFrame(a_per_share_price.groupby('SYMBOL')['AVGPRICE_PERSHARE'].max()).reset_index()\n",
    "highest_range['HIGH'] = round(highest_range['AVGPRICE_PERSHARE'],2)\n",
    "highest_range = highest_range[['SYMBOL','HIGH']]\n",
    "highest_range.head()"
   ]
  },
  {
   "cell_type": "code",
   "execution_count": 69,
   "id": "752c11e2",
   "metadata": {},
   "outputs": [
    {
     "data": {
      "text/html": [
       "<div>\n",
       "<style scoped>\n",
       "    .dataframe tbody tr th:only-of-type {\n",
       "        vertical-align: middle;\n",
       "    }\n",
       "\n",
       "    .dataframe tbody tr th {\n",
       "        vertical-align: top;\n",
       "    }\n",
       "\n",
       "    .dataframe thead th {\n",
       "        text-align: right;\n",
       "    }\n",
       "</style>\n",
       "<table border=\"1\" class=\"dataframe\">\n",
       "  <thead>\n",
       "    <tr style=\"text-align: right;\">\n",
       "      <th></th>\n",
       "      <th>SYMBOL</th>\n",
       "      <th>LOW</th>\n",
       "    </tr>\n",
       "  </thead>\n",
       "  <tbody>\n",
       "    <tr>\n",
       "      <th>0</th>\n",
       "      <td>ADANIENT</td>\n",
       "      <td>3464.09</td>\n",
       "    </tr>\n",
       "    <tr>\n",
       "      <th>1</th>\n",
       "      <td>ADANIGREEN</td>\n",
       "      <td>2223.14</td>\n",
       "    </tr>\n",
       "    <tr>\n",
       "      <th>2</th>\n",
       "      <td>ADANIPORTS</td>\n",
       "      <td>829.34</td>\n",
       "    </tr>\n",
       "    <tr>\n",
       "      <th>3</th>\n",
       "      <td>ADANITRANS</td>\n",
       "      <td>3565.28</td>\n",
       "    </tr>\n",
       "    <tr>\n",
       "      <th>4</th>\n",
       "      <td>AIROLAM</td>\n",
       "      <td>73.25</td>\n",
       "    </tr>\n",
       "  </tbody>\n",
       "</table>\n",
       "</div>"
      ],
      "text/plain": [
       "       SYMBOL      LOW\n",
       "0    ADANIENT  3464.09\n",
       "1  ADANIGREEN  2223.14\n",
       "2  ADANIPORTS   829.34\n",
       "3  ADANITRANS  3565.28\n",
       "4     AIROLAM    73.25"
      ]
     },
     "execution_count": 69,
     "metadata": {},
     "output_type": "execute_result"
    }
   ],
   "source": [
    "lowest_range = pd.DataFrame(a_per_share_price.groupby('SYMBOL')['AVGPRICE_PERSHARE'].min()).reset_index()\n",
    "lowest_range['LOW'] = round(lowest_range['AVGPRICE_PERSHARE'],2)\n",
    "lowest_range = lowest_range[['SYMBOL','LOW']]\n",
    "lowest_range.head()"
   ]
  },
  {
   "cell_type": "code",
   "execution_count": 70,
   "id": "9499fc38",
   "metadata": {},
   "outputs": [
    {
     "data": {
      "text/plain": [
       "True"
      ]
     },
     "execution_count": 70,
     "metadata": {},
     "output_type": "execute_result"
    }
   ],
   "source": [
    "highest_range.shape == lowest_range.shape == avg_per_share_price.shape"
   ]
  },
  {
   "cell_type": "markdown",
   "id": "a2bb7b8a",
   "metadata": {},
   "source": [
    "---\n",
    "### Shareholding Percentage Prior And Post "
   ]
  },
  {
   "cell_type": "code",
   "execution_count": 71,
   "id": "46d82899",
   "metadata": {},
   "outputs": [],
   "source": [
    "shareholding_prcnt = a[['SYMBOL','%_SHAREHOLDING_PRIOR','%_SHAREHOLDING_POST']]"
   ]
  },
  {
   "cell_type": "code",
   "execution_count": 72,
   "id": "59d66d04",
   "metadata": {},
   "outputs": [],
   "source": [
    "shareholding_prcnt = shareholding_prcnt.astype({'%_SHAREHOLDING_PRIOR':'float','%_SHAREHOLDING_POST':'float'})"
   ]
  },
  {
   "cell_type": "code",
   "execution_count": 73,
   "id": "907d42bc",
   "metadata": {},
   "outputs": [
    {
     "data": {
      "text/html": [
       "<div>\n",
       "<style scoped>\n",
       "    .dataframe tbody tr th:only-of-type {\n",
       "        vertical-align: middle;\n",
       "    }\n",
       "\n",
       "    .dataframe tbody tr th {\n",
       "        vertical-align: top;\n",
       "    }\n",
       "\n",
       "    .dataframe thead th {\n",
       "        text-align: right;\n",
       "    }\n",
       "</style>\n",
       "<table border=\"1\" class=\"dataframe\">\n",
       "  <thead>\n",
       "    <tr style=\"text-align: right;\">\n",
       "      <th></th>\n",
       "      <th>SYMBOL</th>\n",
       "      <th>%_SHAREHOLDING_PRIOR</th>\n",
       "      <th>%_SHAREHOLDING_POST</th>\n",
       "      <th>BUY%</th>\n",
       "    </tr>\n",
       "  </thead>\n",
       "  <tbody>\n",
       "    <tr>\n",
       "      <th>18</th>\n",
       "      <td>GODREJAGRO</td>\n",
       "      <td>64.90</td>\n",
       "      <td>64.90</td>\n",
       "      <td>0.00</td>\n",
       "    </tr>\n",
       "    <tr>\n",
       "      <th>28</th>\n",
       "      <td>GNA</td>\n",
       "      <td>0.03</td>\n",
       "      <td>0.03</td>\n",
       "      <td>0.00</td>\n",
       "    </tr>\n",
       "    <tr>\n",
       "      <th>49</th>\n",
       "      <td>GODREJPROP</td>\n",
       "      <td>47.33</td>\n",
       "      <td>47.34</td>\n",
       "      <td>0.01</td>\n",
       "    </tr>\n",
       "    <tr>\n",
       "      <th>55</th>\n",
       "      <td>GODREJAGRO</td>\n",
       "      <td>64.90</td>\n",
       "      <td>64.90</td>\n",
       "      <td>0.00</td>\n",
       "    </tr>\n",
       "    <tr>\n",
       "      <th>56</th>\n",
       "      <td>DCW</td>\n",
       "      <td>0.05</td>\n",
       "      <td>0.24</td>\n",
       "      <td>0.19</td>\n",
       "    </tr>\n",
       "    <tr>\n",
       "      <th>...</th>\n",
       "      <td>...</td>\n",
       "      <td>...</td>\n",
       "      <td>...</td>\n",
       "      <td>...</td>\n",
       "    </tr>\n",
       "    <tr>\n",
       "      <th>4885</th>\n",
       "      <td>WALPAR</td>\n",
       "      <td>14.01</td>\n",
       "      <td>15.28</td>\n",
       "      <td>1.27</td>\n",
       "    </tr>\n",
       "    <tr>\n",
       "      <th>4886</th>\n",
       "      <td>WALPAR</td>\n",
       "      <td>15.28</td>\n",
       "      <td>15.50</td>\n",
       "      <td>0.22</td>\n",
       "    </tr>\n",
       "    <tr>\n",
       "      <th>4905</th>\n",
       "      <td>MAHICKRA</td>\n",
       "      <td>1.09</td>\n",
       "      <td>1.11</td>\n",
       "      <td>0.02</td>\n",
       "    </tr>\n",
       "    <tr>\n",
       "      <th>4929</th>\n",
       "      <td>LIBAS</td>\n",
       "      <td>0.00</td>\n",
       "      <td>0.03</td>\n",
       "      <td>0.03</td>\n",
       "    </tr>\n",
       "    <tr>\n",
       "      <th>4977</th>\n",
       "      <td>MAHICKRA</td>\n",
       "      <td>1.05</td>\n",
       "      <td>1.09</td>\n",
       "      <td>0.04</td>\n",
       "    </tr>\n",
       "  </tbody>\n",
       "</table>\n",
       "<p>513 rows × 4 columns</p>\n",
       "</div>"
      ],
      "text/plain": [
       "          SYMBOL  %_SHAREHOLDING_PRIOR  %_SHAREHOLDING_POST  BUY%\n",
       "18    GODREJAGRO                 64.90                64.90  0.00\n",
       "28           GNA                  0.03                 0.03  0.00\n",
       "49    GODREJPROP                 47.33                47.34  0.01\n",
       "55    GODREJAGRO                 64.90                64.90  0.00\n",
       "56           DCW                  0.05                 0.24  0.19\n",
       "...          ...                   ...                  ...   ...\n",
       "4885      WALPAR                 14.01                15.28  1.27\n",
       "4886      WALPAR                 15.28                15.50  0.22\n",
       "4905    MAHICKRA                  1.09                 1.11  0.02\n",
       "4929       LIBAS                  0.00                 0.03  0.03\n",
       "4977    MAHICKRA                  1.05                 1.09  0.04\n",
       "\n",
       "[513 rows x 4 columns]"
      ]
     },
     "execution_count": 73,
     "metadata": {},
     "output_type": "execute_result"
    }
   ],
   "source": [
    "shareholding_prcnt['BUY%'] = shareholding_prcnt['%_SHAREHOLDING_POST'] - shareholding_prcnt['%_SHAREHOLDING_PRIOR']\n",
    "shareholding_prcnt"
   ]
  },
  {
   "cell_type": "code",
   "execution_count": 74,
   "id": "beb17c2b",
   "metadata": {},
   "outputs": [],
   "source": [
    "prior  = pd.DataFrame(shareholding_prcnt.groupby('SYMBOL')['%_SHAREHOLDING_PRIOR'].max()).reset_index()\n",
    "post  = pd.DataFrame(shareholding_prcnt.groupby('SYMBOL')['%_SHAREHOLDING_POST'].max()).reset_index()"
   ]
  },
  {
   "cell_type": "code",
   "execution_count": 75,
   "id": "116a7ad4",
   "metadata": {},
   "outputs": [
    {
     "data": {
      "text/html": [
       "<div>\n",
       "<style scoped>\n",
       "    .dataframe tbody tr th:only-of-type {\n",
       "        vertical-align: middle;\n",
       "    }\n",
       "\n",
       "    .dataframe tbody tr th {\n",
       "        vertical-align: top;\n",
       "    }\n",
       "\n",
       "    .dataframe thead th {\n",
       "        text-align: right;\n",
       "    }\n",
       "</style>\n",
       "<table border=\"1\" class=\"dataframe\">\n",
       "  <thead>\n",
       "    <tr style=\"text-align: right;\">\n",
       "      <th></th>\n",
       "      <th>SYMBOL</th>\n",
       "      <th>%_SHAREHOLDING_PRIOR</th>\n",
       "    </tr>\n",
       "  </thead>\n",
       "  <tbody>\n",
       "    <tr>\n",
       "      <th>0</th>\n",
       "      <td>ADANIENT</td>\n",
       "      <td>0.32</td>\n",
       "    </tr>\n",
       "    <tr>\n",
       "      <th>1</th>\n",
       "      <td>ADANIGREEN</td>\n",
       "      <td>0.22</td>\n",
       "    </tr>\n",
       "    <tr>\n",
       "      <th>2</th>\n",
       "      <td>ADANIPORTS</td>\n",
       "      <td>0.00</td>\n",
       "    </tr>\n",
       "    <tr>\n",
       "      <th>3</th>\n",
       "      <td>ADANITRANS</td>\n",
       "      <td>0.00</td>\n",
       "    </tr>\n",
       "    <tr>\n",
       "      <th>4</th>\n",
       "      <td>AIROLAM</td>\n",
       "      <td>7.68</td>\n",
       "    </tr>\n",
       "    <tr>\n",
       "      <th>...</th>\n",
       "      <td>...</td>\n",
       "      <td>...</td>\n",
       "    </tr>\n",
       "    <tr>\n",
       "      <th>82</th>\n",
       "      <td>VIPIND</td>\n",
       "      <td>1.91</td>\n",
       "    </tr>\n",
       "    <tr>\n",
       "      <th>83</th>\n",
       "      <td>VSTTILLERS</td>\n",
       "      <td>22.02</td>\n",
       "    </tr>\n",
       "    <tr>\n",
       "      <th>84</th>\n",
       "      <td>WALPAR</td>\n",
       "      <td>15.28</td>\n",
       "    </tr>\n",
       "    <tr>\n",
       "      <th>85</th>\n",
       "      <td>WSTCSTPAPR</td>\n",
       "      <td>3.52</td>\n",
       "    </tr>\n",
       "    <tr>\n",
       "      <th>86</th>\n",
       "      <td>ZYDUSWELL</td>\n",
       "      <td>7.75</td>\n",
       "    </tr>\n",
       "  </tbody>\n",
       "</table>\n",
       "<p>87 rows × 2 columns</p>\n",
       "</div>"
      ],
      "text/plain": [
       "        SYMBOL  %_SHAREHOLDING_PRIOR\n",
       "0     ADANIENT                  0.32\n",
       "1   ADANIGREEN                  0.22\n",
       "2   ADANIPORTS                  0.00\n",
       "3   ADANITRANS                  0.00\n",
       "4      AIROLAM                  7.68\n",
       "..         ...                   ...\n",
       "82      VIPIND                  1.91\n",
       "83  VSTTILLERS                 22.02\n",
       "84      WALPAR                 15.28\n",
       "85  WSTCSTPAPR                  3.52\n",
       "86   ZYDUSWELL                  7.75\n",
       "\n",
       "[87 rows x 2 columns]"
      ]
     },
     "execution_count": 75,
     "metadata": {},
     "output_type": "execute_result"
    }
   ],
   "source": [
    "prior"
   ]
  },
  {
   "cell_type": "markdown",
   "id": "16fca4c2",
   "metadata": {},
   "source": [
    "---\n",
    "## Merging Sarts Here."
   ]
  },
  {
   "cell_type": "code",
   "execution_count": 76,
   "id": "cfb2efa8",
   "metadata": {},
   "outputs": [],
   "source": [
    "main_df = avg_per_share_price.merge(highest_range,on='SYMBOL')\n",
    "main_df = main_df.merge(lowest_range,on='SYMBOL')\n",
    "main_df = main_df.merge(prior,on='SYMBOL')\n",
    "main_df = main_df.merge(post,on='SYMBOL')\n",
    "main_df = main_df.merge(val,on='SYMBOL')\n",
    "main_df = main_df.merge(t_sec,on='SYMBOL')\n",
    "\n",
    "\n",
    "\n"
   ]
  },
  {
   "cell_type": "code",
   "execution_count": null,
   "id": "7234d258",
   "metadata": {},
   "outputs": [],
   "source": [
    "main_df['%_BUY'] = main_df['%_SHAREHOLDING_POST'].astype(float) - main_df['%_SHAREHOLDING_PRIOR'].astype(float)"
   ]
  },
  {
   "cell_type": "markdown",
   "id": "0a5b9403",
   "metadata": {},
   "source": [
    "---\n",
    "### Scrape Current Prices"
   ]
  },
  {
   "cell_type": "code",
   "execution_count": 77,
   "id": "8d7baaed",
   "metadata": {},
   "outputs": [],
   "source": [
    "y = list(main_df['SYMBOL'])"
   ]
  },
  {
   "cell_type": "code",
   "execution_count": 262,
   "id": "0ecb9a14",
   "metadata": {},
   "outputs": [],
   "source": [
    "import time \n",
    "\n",
    "def realpriceupdate(y):\n",
    "    price = {}\n",
    "    not_happened = []\n",
    "    for i in y:\n",
    "        stockcode = str(i)\n",
    "        stock_url  = f\"https://www.screener.in/company/{stockcode}/\"\n",
    "        response = requests.get(stock_url)\n",
    "        time.sleep(3)\n",
    "        soup = BeautifulSoup(response.text, 'lxml')\n",
    "        if len(soup.find_all('div',{\"class\":\"flex flex-align-center\"})) > 0:\n",
    "            price[i] = (soup.find_all('div',{\"class\":\"flex flex-align-center\"})[0].find('span').text[1:])\n",
    "        else:\n",
    "            not_happened.append(i)\n",
    "\n",
    "            \n",
    "            \n",
    "    return(price,not_happened)"
   ]
  },
  {
   "cell_type": "code",
   "execution_count": 264,
   "id": "766ccaea",
   "metadata": {},
   "outputs": [],
   "source": [
    "got,not_got = realpriceupdate(y)"
   ]
  },
  {
   "cell_type": "code",
   "execution_count": 267,
   "id": "f9d21b0d",
   "metadata": {},
   "outputs": [],
   "source": [
    "z = pd.DataFrame.from_dict([got])"
   ]
  },
  {
   "cell_type": "code",
   "execution_count": 268,
   "id": "1ba95054",
   "metadata": {},
   "outputs": [],
   "source": [
    "z = z.T.reset_index()"
   ]
  },
  {
   "cell_type": "code",
   "execution_count": 269,
   "id": "46886a71",
   "metadata": {},
   "outputs": [
    {
     "data": {
      "text/html": [
       "<div>\n",
       "<style scoped>\n",
       "    .dataframe tbody tr th:only-of-type {\n",
       "        vertical-align: middle;\n",
       "    }\n",
       "\n",
       "    .dataframe tbody tr th {\n",
       "        vertical-align: top;\n",
       "    }\n",
       "\n",
       "    .dataframe thead th {\n",
       "        text-align: right;\n",
       "    }\n",
       "</style>\n",
       "<table border=\"1\" class=\"dataframe\">\n",
       "  <thead>\n",
       "    <tr style=\"text-align: right;\">\n",
       "      <th></th>\n",
       "      <th>SYMBOL</th>\n",
       "      <th>CURRENT_PRICE</th>\n",
       "    </tr>\n",
       "  </thead>\n",
       "  <tbody>\n",
       "    <tr>\n",
       "      <th>0</th>\n",
       "      <td>ADANIENT</td>\n",
       "      <td>3,278</td>\n",
       "    </tr>\n",
       "    <tr>\n",
       "      <th>1</th>\n",
       "      <td>ADANIGREEN</td>\n",
       "      <td>2,204</td>\n",
       "    </tr>\n",
       "    <tr>\n",
       "      <th>2</th>\n",
       "      <td>ADANIPORTS</td>\n",
       "      <td>817</td>\n",
       "    </tr>\n",
       "    <tr>\n",
       "      <th>3</th>\n",
       "      <td>ADANITRANS</td>\n",
       "      <td>3,279</td>\n",
       "    </tr>\n",
       "    <tr>\n",
       "      <th>4</th>\n",
       "      <td>AIROLAM</td>\n",
       "      <td>101</td>\n",
       "    </tr>\n",
       "  </tbody>\n",
       "</table>\n",
       "</div>"
      ],
      "text/plain": [
       "       SYMBOL CURRENT_PRICE\n",
       "0    ADANIENT         3,278\n",
       "1  ADANIGREEN         2,204\n",
       "2  ADANIPORTS           817\n",
       "3  ADANITRANS         3,279\n",
       "4     AIROLAM           101"
      ]
     },
     "execution_count": 269,
     "metadata": {},
     "output_type": "execute_result"
    }
   ],
   "source": [
    "z.columns = ['SYMBOL','CURRENT_PRICE']\n",
    "z.head()"
   ]
  },
  {
   "cell_type": "code",
   "execution_count": 270,
   "id": "8de90101",
   "metadata": {},
   "outputs": [],
   "source": [
    "z['CURRENT_PRICE'] = z['CURRENT_PRICE'].str.replace(',','')"
   ]
  },
  {
   "cell_type": "code",
   "execution_count": 272,
   "id": "3c91d4da",
   "metadata": {
    "scrolled": true
   },
   "outputs": [],
   "source": [
    "\n",
    "z['CURRENT_PRICE'] = z['CURRENT_PRICE'].astype('float')\n",
    "\n",
    "z.head()\n",
    "main_df = main_df.merge(z,on='SYMBOL')\n"
   ]
  },
  {
   "cell_type": "markdown",
   "id": "d8dc947d",
   "metadata": {},
   "source": [
    "---"
   ]
  },
  {
   "cell_type": "markdown",
   "id": "e29eb662",
   "metadata": {},
   "source": [
    "---"
   ]
  },
  {
   "cell_type": "code",
   "execution_count": 277,
   "id": "2cb7383e",
   "metadata": {},
   "outputs": [],
   "source": [
    "abv_10cr = main_df[main_df['VALUE_OF_SECURITY_ACQUIRED'] > 20000000]"
   ]
  },
  {
   "cell_type": "code",
   "execution_count": 279,
   "id": "e69f5e1b",
   "metadata": {},
   "outputs": [],
   "source": [
    "less_thn_prmtr_price = abv_10cr[abv_10cr['AVGPRICE_PERSHARE'] > abv_10cr['CURRENT_PRICE']]"
   ]
  },
  {
   "cell_type": "code",
   "execution_count": 273,
   "id": "81f40f95",
   "metadata": {},
   "outputs": [
    {
     "data": {
      "text/html": [
       "<div>\n",
       "<style scoped>\n",
       "    .dataframe tbody tr th:only-of-type {\n",
       "        vertical-align: middle;\n",
       "    }\n",
       "\n",
       "    .dataframe tbody tr th {\n",
       "        vertical-align: top;\n",
       "    }\n",
       "\n",
       "    .dataframe thead th {\n",
       "        text-align: right;\n",
       "    }\n",
       "</style>\n",
       "<table border=\"1\" class=\"dataframe\">\n",
       "  <thead>\n",
       "    <tr style=\"text-align: right;\">\n",
       "      <th></th>\n",
       "      <th>SYMBOL</th>\n",
       "      <th>AVGPRICE_PERSHARE</th>\n",
       "      <th>HIGH</th>\n",
       "      <th>LOW</th>\n",
       "      <th>%_SHAREHOLDING_PRIOR</th>\n",
       "      <th>%_SHAREHOLDING_POST</th>\n",
       "      <th>VALUE_OF_SECURITY_ACQUIRED</th>\n",
       "      <th>NO_OF_SECURITIES_ACQUIRED</th>\n",
       "      <th>CURRENT_PRICE</th>\n",
       "    </tr>\n",
       "  </thead>\n",
       "  <tbody>\n",
       "    <tr>\n",
       "      <th>0</th>\n",
       "      <td>ADANIENT</td>\n",
       "      <td>3655.385437</td>\n",
       "      <td>3851.91</td>\n",
       "      <td>3464.09</td>\n",
       "      <td>0.32</td>\n",
       "      <td>0.35</td>\n",
       "      <td>1.278702e+10</td>\n",
       "      <td>3486140.0</td>\n",
       "      <td>3278.0</td>\n",
       "    </tr>\n",
       "    <tr>\n",
       "      <th>1</th>\n",
       "      <td>ADANIGREEN</td>\n",
       "      <td>2346.793446</td>\n",
       "      <td>2424.44</td>\n",
       "      <td>2223.14</td>\n",
       "      <td>0.22</td>\n",
       "      <td>0.25</td>\n",
       "      <td>9.351393e+09</td>\n",
       "      <td>4000100.0</td>\n",
       "      <td>2204.0</td>\n",
       "    </tr>\n",
       "    <tr>\n",
       "      <th>2</th>\n",
       "      <td>ADANIPORTS</td>\n",
       "      <td>829.340000</td>\n",
       "      <td>829.34</td>\n",
       "      <td>829.34</td>\n",
       "      <td>0.00</td>\n",
       "      <td>0.00</td>\n",
       "      <td>8.293400e+04</td>\n",
       "      <td>100.0</td>\n",
       "      <td>817.0</td>\n",
       "    </tr>\n",
       "    <tr>\n",
       "      <th>3</th>\n",
       "      <td>ADANITRANS</td>\n",
       "      <td>3565.280000</td>\n",
       "      <td>3565.28</td>\n",
       "      <td>3565.28</td>\n",
       "      <td>0.00</td>\n",
       "      <td>0.00</td>\n",
       "      <td>3.565280e+05</td>\n",
       "      <td>100.0</td>\n",
       "      <td>3279.0</td>\n",
       "    </tr>\n",
       "    <tr>\n",
       "      <th>4</th>\n",
       "      <td>AIROLAM</td>\n",
       "      <td>73.250476</td>\n",
       "      <td>73.25</td>\n",
       "      <td>73.25</td>\n",
       "      <td>7.68</td>\n",
       "      <td>0.01</td>\n",
       "      <td>7.691300e+04</td>\n",
       "      <td>1050.0</td>\n",
       "      <td>101.0</td>\n",
       "    </tr>\n",
       "  </tbody>\n",
       "</table>\n",
       "</div>"
      ],
      "text/plain": [
       "       SYMBOL  AVGPRICE_PERSHARE     HIGH      LOW  %_SHAREHOLDING_PRIOR  \\\n",
       "0    ADANIENT        3655.385437  3851.91  3464.09                  0.32   \n",
       "1  ADANIGREEN        2346.793446  2424.44  2223.14                  0.22   \n",
       "2  ADANIPORTS         829.340000   829.34   829.34                  0.00   \n",
       "3  ADANITRANS        3565.280000  3565.28  3565.28                  0.00   \n",
       "4     AIROLAM          73.250476    73.25    73.25                  7.68   \n",
       "\n",
       "   %_SHAREHOLDING_POST  VALUE_OF_SECURITY_ACQUIRED  NO_OF_SECURITIES_ACQUIRED  \\\n",
       "0                 0.35                1.278702e+10                  3486140.0   \n",
       "1                 0.25                9.351393e+09                  4000100.0   \n",
       "2                 0.00                8.293400e+04                      100.0   \n",
       "3                 0.00                3.565280e+05                      100.0   \n",
       "4                 0.01                7.691300e+04                     1050.0   \n",
       "\n",
       "   CURRENT_PRICE  \n",
       "0         3278.0  \n",
       "1         2204.0  \n",
       "2          817.0  \n",
       "3         3279.0  \n",
       "4          101.0  "
      ]
     },
     "execution_count": 273,
     "metadata": {},
     "output_type": "execute_result"
    }
   ],
   "source": [
    "main_df.head()"
   ]
  },
  {
   "cell_type": "markdown",
   "id": "8a388d61",
   "metadata": {},
   "source": [
    "---"
   ]
  },
  {
   "cell_type": "code",
   "execution_count": 280,
   "id": "3dc715eb",
   "metadata": {},
   "outputs": [],
   "source": [
    "path = r'C:\\Users\\user\\Desktop\\Stocks_Automated\\STOCKS_8OCT.csv'\n",
    "path1 = r'C:\\Users\\user\\Desktop\\Stocks_Automated\\LESS_PRMTR_AVGBUY_PRICE_8OCT.csv'\n",
    "path2 = r'C:\\Users\\user\\Desktop\\Stocks_Automated\\ABOVE2CR_8OCT.csv'"
   ]
  },
  {
   "cell_type": "code",
   "execution_count": 281,
   "id": "dd046bc0",
   "metadata": {},
   "outputs": [],
   "source": [
    "main_df.to_csv(path)\n",
    "less_thn_prmtr_price.to_csv(path1)\n",
    "abv_10cr.to_csv(path2)"
   ]
  },
  {
   "cell_type": "markdown",
   "id": "c804993f",
   "metadata": {},
   "source": [
    "# ENDS"
   ]
  },
  {
   "cell_type": "markdown",
   "id": "52bea5c4",
   "metadata": {},
   "source": [
    "---\n",
    "### ROUGH BELOW..."
   ]
  },
  {
   "cell_type": "code",
   "execution_count": null,
   "id": "50da3d31",
   "metadata": {},
   "outputs": [],
   "source": []
  },
  {
   "cell_type": "code",
   "execution_count": null,
   "id": "24da7f0a",
   "metadata": {},
   "outputs": [],
   "source": []
  },
  {
   "cell_type": "code",
   "execution_count": null,
   "id": "75a63f8c",
   "metadata": {},
   "outputs": [],
   "source": []
  },
  {
   "cell_type": "code",
   "execution_count": null,
   "id": "352d1c5f",
   "metadata": {},
   "outputs": [],
   "source": []
  },
  {
   "cell_type": "code",
   "execution_count": null,
   "id": "ed43a531",
   "metadata": {},
   "outputs": [],
   "source": []
  },
  {
   "cell_type": "code",
   "execution_count": 282,
   "id": "4808d8be",
   "metadata": {},
   "outputs": [],
   "source": [
    "# for i in z.CURRENT_PRICE:\n",
    "#     if ',' in i:\n",
    "#         z['new']= int(i.replace(',', ''))\n",
    "#     else:\n",
    "#         z['new']= float(i)\n",
    "        \n",
    "    \n",
    "# z.head()"
   ]
  },
  {
   "cell_type": "code",
   "execution_count": 283,
   "id": "59803cd9",
   "metadata": {},
   "outputs": [],
   "source": [
    "# for i in (z.CURRENT_PRICE):\n",
    "#     print(i)\n",
    "# z\n",
    "    "
   ]
  },
  {
   "cell_type": "code",
   "execution_count": 284,
   "id": "bca2ff56",
   "metadata": {},
   "outputs": [],
   "source": [
    "# z['CURRENT_PRICE'] = int(z['CURRENT_PRICE'].replace(',', ''))\n",
    "# # int(rectify.replace(',', ''))"
   ]
  },
  {
   "cell_type": "code",
   "execution_count": 285,
   "id": "a0af07ab",
   "metadata": {},
   "outputs": [],
   "source": [
    "# (price)"
   ]
  },
  {
   "cell_type": "code",
   "execution_count": 286,
   "id": "e4c9e40c",
   "metadata": {},
   "outputs": [],
   "source": [
    "# prices = []\n",
    "# for i in y:\n",
    "# #     print(realpriceupdate(i))\n",
    "#     prices.append(realpriceupdate(i))\n",
    "    "
   ]
  },
  {
   "cell_type": "code",
   "execution_count": 287,
   "id": "a7b71055",
   "metadata": {
    "scrolled": true
   },
   "outputs": [],
   "source": [
    "# print(len(prices))\n",
    "# len(y)\n",
    "# print(realpriceupdate(y[23]))\n",
    "# prices\n",
    "# # res = dict(zip(y,prices))\n",
    "# # res\n",
    "\n"
   ]
  },
  {
   "cell_type": "markdown",
   "id": "8a5a77a6",
   "metadata": {},
   "source": [
    "# Pending..."
   ]
  },
  {
   "cell_type": "code",
   "execution_count": 288,
   "id": "208cde96",
   "metadata": {},
   "outputs": [],
   "source": [
    "# z['CURRENT_PRICE'] = z['CURRENT_PRICE'].str.strip(\",\")"
   ]
  },
  {
   "cell_type": "code",
   "execution_count": 289,
   "id": "aab518d2",
   "metadata": {},
   "outputs": [],
   "source": [
    "# for i in z['CURRENT_PRICE']:\n",
    "#     if ',' in i:\n",
    "#         i.replace(',','')\n",
    "#         print(i)"
   ]
  },
  {
   "cell_type": "code",
   "execution_count": 290,
   "id": "315f9ac2",
   "metadata": {},
   "outputs": [],
   "source": [
    "# abv_10cr['CURRENT_PRICE'].astype(float) < abv_10cr['AVGPRICE_PERSHARE']"
   ]
  },
  {
   "cell_type": "code",
   "execution_count": 291,
   "id": "91688070",
   "metadata": {},
   "outputs": [],
   "source": [
    "# pending"
   ]
  },
  {
   "cell_type": "markdown",
   "id": "56f5b446",
   "metadata": {},
   "source": [
    "# Pending..."
   ]
  },
  {
   "cell_type": "code",
   "execution_count": 292,
   "id": "c75d1bac",
   "metadata": {},
   "outputs": [],
   "source": [
    "# main_df = main_df.merge(z,on='SYMBOL')\n"
   ]
  },
  {
   "cell_type": "code",
   "execution_count": 293,
   "id": "36e9e69b",
   "metadata": {},
   "outputs": [],
   "source": [
    "# def realpriceupdate(i):\n",
    "#     stockcode = str(i)\n",
    "#     stock_url  = f\"https://www.screener.in/company/{stockcode}/\"\n",
    "#     response = requests.get(stock_url)\n",
    "#     soup = BeautifulSoup(response.text, 'lxml')\n",
    "#     price = []\n",
    "#     if len(soup.find_all('div',{\"class\":\"flex flex-align-center\"})) > 0:\n",
    "        \n",
    "# #         price = soup.find_all('div',{\"class\":\"flex flex-align-center\"})[0]\n",
    "#         price = soup.find_all('div',{\"class\":\"flex flex-align-center\"})[0].find('span').text[1:]\n",
    "#     else:\n",
    "#         realpriceupdate(stockcode)\n",
    "    \n",
    "\n",
    "\n",
    "#     return(price)"
   ]
  },
  {
   "cell_type": "code",
   "execution_count": 294,
   "id": "7b442ff0",
   "metadata": {},
   "outputs": [],
   "source": [
    "\n",
    "\n",
    "# def realpriceupdate(y):\n",
    "#     price = {}\n",
    "#     not_happened = []\n",
    "#     for i in y:\n",
    "#         stockcode = str(i)\n",
    "#         stock_url  = f\"https://www.screener.in/company/{stockcode}/\"\n",
    "#         response = requests.get(stock_url)\n",
    "#         soup = BeautifulSoup(response.text, 'lxml')\n",
    "#         if len(soup.find_all('div',{\"class\":\"flex flex-align-center\"})) > 0:\n",
    "#             price[i] = (soup.find_all('div',{\"class\":\"flex flex-align-center\"})[0].find('span').text[1:])\n",
    "# #             price.append(soup.find_all('div',{\"class\":\"flex flex-align-center\"})[0].find('span').text[1:])\n",
    "#         else:\n",
    "#             not_happened.append(i)\n",
    "\n",
    "            \n",
    "            \n",
    "#     return(price,not_happened)\n"
   ]
  },
  {
   "cell_type": "code",
   "execution_count": 295,
   "id": "bcdff58c",
   "metadata": {},
   "outputs": [],
   "source": [
    "# a,b = realpriceupdate(y)"
   ]
  },
  {
   "cell_type": "code",
   "execution_count": 296,
   "id": "5e8462e7",
   "metadata": {},
   "outputs": [],
   "source": [
    "# a1,b1 = realpriceupdate(b)"
   ]
  },
  {
   "cell_type": "code",
   "execution_count": 297,
   "id": "372756bf",
   "metadata": {},
   "outputs": [],
   "source": [
    "# price = {**a,**a1}\n"
   ]
  },
  {
   "cell_type": "code",
   "execution_count": 298,
   "id": "8cbfd568",
   "metadata": {},
   "outputs": [],
   "source": [
    "# price"
   ]
  },
  {
   "cell_type": "code",
   "execution_count": 299,
   "id": "af0f8b78",
   "metadata": {},
   "outputs": [],
   "source": [
    "# z.info()"
   ]
  },
  {
   "cell_type": "code",
   "execution_count": 300,
   "id": "aa427b8b",
   "metadata": {},
   "outputs": [],
   "source": [
    "# import time \n",
    "\n",
    "# def realpriceupdate(i):\n",
    "#     stockcode = str(i)\n",
    "#     stock_url  = f\"https://www.screener.in/company/{stockcode}/\"\n",
    "#     response = requests.get(stock_url)\n",
    "#     soup = BeautifulSoup(response.text, 'lxml')\n",
    "#     price = soup.find_all('div',{\"class\":\"flex flex-align-center\"})[0].find('span').text[1:]\n",
    "#     return(price)\n"
   ]
  },
  {
   "cell_type": "code",
   "execution_count": 301,
   "id": "8a396f25",
   "metadata": {},
   "outputs": [],
   "source": [
    "# stockcode = \"DHAMPURSUG\"\n",
    "# print(stockcode)"
   ]
  },
  {
   "cell_type": "code",
   "execution_count": 302,
   "id": "4e11efd2",
   "metadata": {},
   "outputs": [],
   "source": [
    "# # stock_url  = 'https://www.nseindia.com/live_market/dynaContent/live_watch/get_quote/GetQuote.jsp?symbol='+str(stockcode)\n",
    "# stock_url  = f\"https://www.screener.in/company/{stockcode}/\"\n",
    "\n",
    "# print(stock_url)\n",
    "\n",
    "# response = requests.get(stock_url)\n"
   ]
  },
  {
   "cell_type": "code",
   "execution_count": 303,
   "id": "08669d6f",
   "metadata": {},
   "outputs": [],
   "source": [
    "# print(response)"
   ]
  },
  {
   "cell_type": "code",
   "execution_count": 304,
   "id": "e49a544d",
   "metadata": {},
   "outputs": [],
   "source": [
    "# soup = BeautifulSoup(response.text, 'lxml')"
   ]
  },
  {
   "cell_type": "code",
   "execution_count": 305,
   "id": "d06a1bca",
   "metadata": {},
   "outputs": [],
   "source": [
    "# price = soup.find_all('div',{\"class\":\"flex flex-align-center\"})[0].find('span').text[1:]"
   ]
  },
  {
   "cell_type": "code",
   "execution_count": 306,
   "id": "14b06580",
   "metadata": {},
   "outputs": [],
   "source": [
    "# print(price)"
   ]
  },
  {
   "cell_type": "code",
   "execution_count": 307,
   "id": "9fe9114f",
   "metadata": {},
   "outputs": [],
   "source": [
    "# def real_price():\n",
    "#     stockcode = \"DHAMPURSUG\"\n",
    "#     stock_url  = f\"https://www.screener.in/company/{stockcode}/\"\n",
    "#     response = requests.get(stock_url)\n",
    "#     soup = BeautifulSoup(response.text, 'lxml')\n",
    "#     price = soup.find_all('div',{\"class\":\"flex flex-align-center\"})[0].find('span').text[1:]\n",
    "#     print(price)\n",
    "\n",
    "    "
   ]
  }
 ],
 "metadata": {
  "kernelspec": {
   "display_name": "Python 3",
   "language": "python",
   "name": "python3"
  },
  "language_info": {
   "codemirror_mode": {
    "name": "ipython",
    "version": 3
   },
   "file_extension": ".py",
   "mimetype": "text/x-python",
   "name": "python",
   "nbconvert_exporter": "python",
   "pygments_lexer": "ipython3",
   "version": "3.8.8"
  }
 },
 "nbformat": 4,
 "nbformat_minor": 5
}
